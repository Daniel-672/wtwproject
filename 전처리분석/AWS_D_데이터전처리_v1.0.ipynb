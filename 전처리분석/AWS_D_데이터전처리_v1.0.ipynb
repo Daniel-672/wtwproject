{
 "cells": [
  {
   "cell_type": "markdown",
   "metadata": {},
   "source": [
    "### *방재기상관측(AWS) 데이터 전처리 일별*\n",
    "> 250개 시군구 기준으로 날씨를 정리함\n",
    "> 1. 시군구의 위경도와 센서간의 유클리드 거리로 시군구별 top 4개의 센서를 찾음\n",
    "> 2. 거리별 가중치를 계산하여 각 날씨 관련 변수를 계산\n",
    "##### w1 = 1/3 * [1 - {|d-a1|/(|d-a1| + |d-a2| + |d-a3| + |d-a4|)}]\n",
    "##### w2 = 1/3 * [1 - {|d-a2|/(|d-a1| + |d-a2| + |d-a3| + |d-a4|)}]\n",
    "##### w3 = 1/3 * [1 - {|d-a3|/(|d-a1| + |d-a2| + |d-a3| + |d-a4|)}]\n",
    "##### w4 = 1/3 * [1 - {|d-a4|/(|d-a1| + |d-a2| + |d-a3| + |d-a4|)}]\n",
    "sigungu_xy.csv (시군구)\n",
    "censerinfo.csv (센서데이터)\n",
    "OBS_AWS_DD_201701_202010.csv (센서별 날씨관련 변수)"
   ]
  },
  {
   "cell_type": "code",
   "execution_count": 1,
   "metadata": {},
   "outputs": [
    {
     "data": {
      "text/html": [
       "\n",
       "            <div>\n",
       "                <p><b>SparkSession - in-memory</b></p>\n",
       "                \n",
       "        <div>\n",
       "            <p><b>SparkContext</b></p>\n",
       "\n",
       "            <p><a href=\"http://localhost:4040\">Spark UI</a></p>\n",
       "\n",
       "            <dl>\n",
       "              <dt>Version</dt>\n",
       "                <dd><code>v3.0.1</code></dd>\n",
       "              <dt>Master</dt>\n",
       "                <dd><code>local[2]</code></dd>\n",
       "              <dt>AppName</dt>\n",
       "                <dd><code>sparkedu</code></dd>\n",
       "            </dl>\n",
       "        </div>\n",
       "        \n",
       "            </div>\n",
       "        "
      ],
      "text/plain": [
       "<pyspark.sql.session.SparkSession at 0x1dc07f907c8>"
      ]
     },
     "execution_count": 1,
     "metadata": {},
     "output_type": "execute_result"
    }
   ],
   "source": [
    "import pyspark\n",
    "from pyspark.sql import SparkSession\n",
    "from pyspark.sql.functions import mean,col,split, col, regexp_extract, when, lit\n",
    "\n",
    "spark = SparkSession.builder.master(\"local[2]\") \\\n",
    "                    .appName('sparkedu') \\\n",
    "                    .getOrCreate()\n",
    "spark"
   ]
  },
  {
   "cell_type": "markdown",
   "metadata": {},
   "source": [
    "### 1. 시군구 위경도 로딩하여 전처리"
   ]
  },
  {
   "cell_type": "markdown",
   "metadata": {},
   "source": [
    "#### 1.1 시군구 위경도 로딩 컬럼 타입 수정 및 sql사용을 위해 데이터셋 등록"
   ]
  },
  {
   "cell_type": "code",
   "execution_count": 2,
   "metadata": {},
   "outputs": [
    {
     "name": "stdout",
     "output_type": "stream",
     "text": [
      "250\n"
     ]
    }
   ],
   "source": [
    "SigunguXY = spark\\\n",
    "          .read\\\n",
    "          .option(\"inferSchema\", \"true\")\\\n",
    "          .option(\"header\", \"true\")\\\n",
    "          .csv(\"data/sigungu_xy.csv\")\n",
    "SigunguXY = SigunguXY.withColumn(\"sigungu_x\", SigunguXY.sigungu_x.cast(\"float\")).withColumn(\"sigungu_y\", SigunguXY.sigungu_y.cast(\"float\"))\n",
    "SigunguXY.createOrReplaceTempView(\"Sigunguxy\")\n",
    "print(SigunguXY.count())\n",
    "# 250"
   ]
  },
  {
   "cell_type": "markdown",
   "metadata": {},
   "source": [
    "#### 1.2 검증"
   ]
  },
  {
   "cell_type": "code",
   "execution_count": 3,
   "metadata": {},
   "outputs": [
    {
     "name": "stdout",
     "output_type": "stream",
     "text": [
      "250\n",
      "250\n",
      "+-------+--------+-------+------------------+------------------+\n",
      "|summary|    sido|sigungu|         sigungu_x|         sigungu_y|\n",
      "+-------+--------+-------+------------------+------------------+\n",
      "|  count|     250|    250|               250|               250|\n",
      "|   mean|    null|   null|127.63907656860351| 36.41521324157715|\n",
      "| stddev|    null|   null| 0.912011813226167|1.0729488769413968|\n",
      "|    min|  강원도| 가평군|         124.67009|         33.254066|\n",
      "|    max|충청북도| 횡성군|         130.90572|         38.380592|\n",
      "+-------+--------+-------+------------------+------------------+\n",
      "\n",
      "+------+-------+---------+---------+\n",
      "|  sido|sigungu|sigungu_x|sigungu_y|\n",
      "+------+-------+---------+---------+\n",
      "|강원도| 강릉시| 128.8759| 37.75211|\n",
      "|강원도| 고성군|128.46786|38.380592|\n",
      "+------+-------+---------+---------+\n",
      "only showing top 2 rows\n",
      "\n"
     ]
    }
   ],
   "source": [
    "print(SigunguXY.count())\n",
    "print(SigunguXY.distinct().count())\n",
    "SigunguXY.describe().show()\n",
    "SigunguXY.show(2)\n",
    "# 250"
   ]
  },
  {
   "cell_type": "markdown",
   "metadata": {},
   "source": [
    "### 2. 524개의 센서 데이터를 전처리"
   ]
  },
  {
   "cell_type": "markdown",
   "metadata": {},
   "source": [
    "#### 2.1 데이터 로딩, 컬럼 타입 수정 및 sql사용을 위해 데이터셋 등록"
   ]
  },
  {
   "cell_type": "code",
   "execution_count": 4,
   "metadata": {},
   "outputs": [
    {
     "name": "stdout",
     "output_type": "stream",
     "text": [
      "1893\n"
     ]
    }
   ],
   "source": [
    "SenserInfo = spark\\\n",
    "          .read\\\n",
    "          .option(\"inferSchema\", \"true\")\\\n",
    "          .option(\"header\", \"true\")\\\n",
    "          .csv(\"data/censerinfo.csv\")\n",
    "SenserInfo = SenserInfo.withColumn(\"x\", SenserInfo.x.cast(\"float\")).withColumn(\"y\", SenserInfo.y.cast(\"float\"))\n",
    "SenserInfo.createOrReplaceTempView(\"SenserInfo\")\n",
    "print(SenserInfo.count())\n",
    "# 1893"
   ]
  },
  {
   "cell_type": "markdown",
   "metadata": {},
   "source": [
    "#### 2.2 데이터 정리 - 이력관리 되고 있는 센서 위치 정보를 최근으로 데이터로 가져 오고 필요 데이터만 으로 subset을 만듬"
   ]
  },
  {
   "cell_type": "code",
   "execution_count": 5,
   "metadata": {},
   "outputs": [
    {
     "name": "stdout",
     "output_type": "stream",
     "text": [
      "1893\n",
      "+-------+-----------------+-------------------+-------------------+-----------+------------------+------------------+------------------+------------------+------------------+\n",
      "|summary|         senserid|          startdate|            enddate|sernsername|                 x|                 y|region_1depth_name|region_2depth_name|region_3depth_name|\n",
      "+-------+-----------------+-------------------+-------------------+-----------+------------------+------------------+------------------+------------------+------------------+\n",
      "|  count|             1893|               1893|               1893|       1893|              1893|              1893|              1893|              1893|              1893|\n",
      "|   mean|693.0612783940835|               null|               null|       null|127.53129761419281|36.158902869045704|              null|              null|              null|\n",
      "| stddev| 174.599815603351|               null|               null|       null|0.9911930175069503|1.3313135706812764|              null|              null|              null|\n",
      "|    min|               12|1989-06-27 00:00:00|1996-12-31 00:00:00|     가거도|          124.6305|           33.1137|            강원도|            가평군|            가산동|\n",
      "|    max|              978|2020-10-30 00:00:00|2222-12-31 00:00:00|       후포|          131.8698|           38.5441|          충청북도|            횡성군|            흑산면|\n",
      "+-------+-----------------+-------------------+-------------------+-----------+------------------+------------------+------------------+------------------+------------------+\n",
      "\n"
     ]
    }
   ],
   "source": [
    "print(SenserInfo.distinct().count())\n",
    "SenserInfo.describe().show()\n",
    "# SenserInfo.show()\n",
    "# 1893"
   ]
  },
  {
   "cell_type": "code",
   "execution_count": 6,
   "metadata": {},
   "outputs": [
    {
     "name": "stdout",
     "output_type": "stream",
     "text": [
      "+-------+-----------------+-----------+------------------+------------------+---------------+---------------+---------------+\n",
      "|summary|         senserid|sernsername|          senser_x|          senser_y|senser_region_1|senser_region_2|senser_region_3|\n",
      "+-------+-----------------+-----------+------------------+------------------+---------------+---------------+---------------+\n",
      "|  count|              524|        524|               524|               524|            524|            524|            524|\n",
      "|   mean|679.4561068702291|       null|127.52589231593008|36.187192130634806|           null|           null|           null|\n",
      "| stddev|184.2299668080408|       null|1.0150116146748691| 1.364833816970453|           null|           null|           null|\n",
      "|    min|               12|     가거도|          124.6305|           33.1221|         강원도|         가산면|         가평군|\n",
      "|    max|              978|       횡성|          131.8698|           38.5439|       충청북도|         흑산면|         횡성군|\n",
      "+-------+-----------------+-----------+------------------+------------------+---------------+---------------+---------------+\n",
      "\n",
      "524\n"
     ]
    }
   ],
   "source": [
    "LastSenserInfo = spark.sql(\"\"\"\n",
    "SELECT A.senserid, A.sernsername, A.x AS senser_x, A.y AS senser_y,\n",
    "        A.region_1depth_name AS senser_region_1,  \n",
    "        A.region_3depth_name AS senser_region_2,  \n",
    "        A.region_2depth_name AS senser_region_3\n",
    "FROM SenserInfo AS A\n",
    "\n",
    "INNER JOIN (\n",
    "    SELECT senserid, max(enddate) AS lenddate\n",
    "    FROM SenserInfo\n",
    "    GROUP BY senserid\n",
    "    ) AS B\n",
    "ON A.senserid = B.senserid\n",
    "AND A.enddate = B.lenddate\n",
    "\n",
    "WHERE 1 = 1\n",
    "\n",
    "\"\"\")\n",
    "LastSenserInfo.createOrReplaceTempView(\"LastSenserInfo\")\n",
    "LastSenserInfo.describe().show()\n",
    "print(LastSenserInfo.count())\n",
    "# 524"
   ]
  },
  {
   "cell_type": "markdown",
   "metadata": {},
   "source": [
    "### 3. 시군구 와 날씨 데이터의 위경도 값을 이용하여 유클리드 거리고 top3 선택"
   ]
  },
  {
   "cell_type": "markdown",
   "metadata": {},
   "source": [
    "#### 3.1 full join"
   ]
  },
  {
   "cell_type": "code",
   "execution_count": 7,
   "metadata": {},
   "outputs": [
    {
     "name": "stdout",
     "output_type": "stream",
     "text": [
      "131000\n",
      "+------+-------+---------+---------+--------+-----------+--------+--------+---------------+---------------+---------------+\n",
      "|  sido|sigungu|sigungu_x|sigungu_y|senserid|sernsername|senser_x|senser_y|senser_region_1|senser_region_2|senser_region_3|\n",
      "+------+-------+---------+---------+--------+-----------+--------+--------+---------------+---------------+---------------+\n",
      "|강원도| 강릉시| 128.8759| 37.75211|      12| 안면도(감)|126.3167| 36.5333|       충청남도|         안면읍|         태안군|\n",
      "|강원도| 고성군|128.46786|38.380592|      12| 안면도(감)|126.3167| 36.5333|       충청남도|         안면읍|         태안군|\n",
      "+------+-------+---------+---------+--------+-----------+--------+--------+---------------+---------------+---------------+\n",
      "only showing top 2 rows\n",
      "\n"
     ]
    }
   ],
   "source": [
    "Sigungu_dist = spark.sql(\"\"\"\n",
    "SELECT *\n",
    "FROM SigunguXY AS A\n",
    "\n",
    "FULL JOIN LastSenserInfo AS B\n",
    "\n",
    "WHERE 1 = 1\n",
    "-- AND A.sigungu = '강릉시'\n",
    "\n",
    "\"\"\")\n",
    "Sigungu_dist.createOrReplaceTempView(\"Sigungu_dist\")\n",
    "print(Sigungu_dist.count())\n",
    "Sigungu_dist.show(2)\n",
    "# 250 * 524 = 131000"
   ]
  },
  {
   "cell_type": "markdown",
   "metadata": {},
   "source": [
    "#### 3.2 유클리드 거리 및 순위 추출 (pyspark dataframe에서 처리 불가 하여 변환하여처리)"
   ]
  },
  {
   "cell_type": "code",
   "execution_count": 8,
   "metadata": {},
   "outputs": [
    {
     "name": "stdout",
     "output_type": "stream",
     "text": [
      "2.8346126716273883\n",
      "0.0\n",
      "516.1879502661797\n"
     ]
    }
   ],
   "source": [
    "from scipy.spatial import distance\n",
    "print(distance.euclidean((128.8759061, 37.75210808), (126.3167, 36.5333)))\n",
    "print(distance.euclidean((128.8759061, 37.75210808), (128.8759061, 37.75210808)))\n",
    "print(distance.euclidean((0, 0), (365, 365)))"
   ]
  },
  {
   "cell_type": "code",
   "execution_count": 9,
   "metadata": {},
   "outputs": [
    {
     "name": "stdout",
     "output_type": "stream",
     "text": [
      "변환 전 <class 'pyspark.sql.dataframe.DataFrame'>\n",
      "변환 후 <class 'pandas.core.frame.DataFrame'>\n",
      "유클리드 거리 추가 후 다시변환 <class 'pyspark.sql.dataframe.DataFrame'>\n",
      "131000\n",
      "+------+-------+------------------+------------------+--------+-----------+------------------+-----------------+---------------+---------------+---------------+------------------+\n",
      "|  sido|sigungu|         sigungu_x|         sigungu_y|senserid|sernsername|          senser_x|         senser_y|senser_region_1|senser_region_2|senser_region_3|         udistance|\n",
      "+------+-------+------------------+------------------+--------+-----------+------------------+-----------------+---------------+---------------+---------------+------------------+\n",
      "|강원도| 강릉시| 128.8759002685547| 37.75210952758789|      12| 안면도(감)|126.31670379638672|36.53329849243164|       충청남도|         안면읍|         태안군| 2.834605249867365|\n",
      "|강원도| 고성군|128.46786499023438|38.380592346191406|      12| 안면도(감)|126.31670379638672|36.53329849243164|       충청남도|         안면읍|         태안군|2.8354874473456375|\n",
      "+------+-------+------------------+------------------+--------+-----------+------------------+-----------------+---------------+---------------+---------------+------------------+\n",
      "only showing top 2 rows\n",
      "\n"
     ]
    }
   ],
   "source": [
    "from scipy.spatial import distance\n",
    "# print(distance.euclidean((128.8759061, 37.75210808), (126.3167, 36.5333)))\n",
    "print('변환 전', type(Sigungu_dist))\n",
    "# Sigunguxy_dist['distance'] = Sigunguxy_dist.map(lambda x : distance.euclidean((x['sigungu_x'], x['sigungu_y']), (x['x'], x['y'])), axis=1)\n",
    "\n",
    "#유클리드 함수가 안 돌아 가서 pdf로 변환 후 처리\n",
    "pdf_Sigungu_dist = Sigungu_dist.toPandas()\n",
    "print('변환 후', type(pdf_Sigungu_dist))\n",
    "pdf_Sigungu_dist['udistance'] = pdf_Sigungu_dist.apply(lambda x : distance.euclidean((x['sigungu_x'], x['sigungu_y']), (x['senser_x'], x['senser_y'])), axis=1)\n",
    "# 다시 스파크 프레임으로 변환\n",
    "Sigungu_dist = spark.createDataFrame(pdf_Sigungu_dist)\n",
    "Sigungu_dist.createOrReplaceTempView(\"Sigungu_dist\")\n",
    "print('유클리드 거리 추가 후 다시변환', type(Sigungu_dist))\n",
    "print(Sigungu_dist.count())\n",
    "Sigungu_dist.show(2)\n",
    "# 131000"
   ]
  },
  {
   "cell_type": "markdown",
   "metadata": {},
   "source": [
    "#### 3.3 유클리드 거리에 따라 작은 top 추출"
   ]
  },
  {
   "cell_type": "code",
   "execution_count": 10,
   "metadata": {},
   "outputs": [],
   "source": [
    "# 최종 센서데이터에 빠지는 경우가 있기 때문에 전체 여기서 센서의 개수를 정하지 못함 못함 ㅠㅠ\n",
    "from pyspark.sql.window import Window\n",
    "from pyspark.sql.functions import row_number\n",
    "\n",
    "# 시군구 기준으로 센서들의 udistance에 따라 순위를 줌 \n",
    "# windowSpec  = Window.partitionBy(\"sido\", \"sigungu\").orderBy(\"udistance\")\n",
    "# Sigungu_dist = Sigungu_dist.withColumn(\"row_number\", row_number().over(windowSpec))\n",
    "\n",
    "# Sigungu_dist.createOrReplaceTempView(\"Sigungu_dist\")\n",
    "# print(Sigungu_dist.count())\n",
    "# Sigungu_dist.show(2)\n",
    "# 131000"
   ]
  },
  {
   "cell_type": "code",
   "execution_count": 11,
   "metadata": {},
   "outputs": [
    {
     "name": "stdout",
     "output_type": "stream",
     "text": [
      "131000\n",
      "+------+-------+------------------+------------------+--------+-----------+------------------+-----------------+---------------+---------------+---------------+------------------+\n",
      "|  sido|sigungu|         sigungu_x|         sigungu_y|senserid|sernsername|          senser_x|         senser_y|senser_region_1|senser_region_2|senser_region_3|         udistance|\n",
      "+------+-------+------------------+------------------+--------+-----------+------------------+-----------------+---------------+---------------+---------------+------------------+\n",
      "|강원도| 강릉시| 128.8759002685547| 37.75210952758789|      12| 안면도(감)|126.31670379638672|36.53329849243164|       충청남도|         안면읍|         태안군| 2.834605249867365|\n",
      "|강원도| 고성군|128.46786499023438|38.380592346191406|      12| 안면도(감)|126.31670379638672|36.53329849243164|       충청남도|         안면읍|         태안군|2.8354874473456375|\n",
      "+------+-------+------------------+------------------+--------+-----------+------------------+-----------------+---------------+---------------+---------------+------------------+\n",
      "only showing top 2 rows\n",
      "\n"
     ]
    }
   ],
   "source": [
    "# 최종 센서데이터에 빠지는 경우가 있기 때문에 전체 여기서 센서의 개수를 정하지 못함 못함 ㅠㅠ\n",
    "##### 파일 전달을 위해 그냥 둠 ####\n",
    "SigunguSenserTop = spark.sql(\"\"\"\n",
    "SELECT *\n",
    "FROM Sigungu_dist \n",
    "WHERE 1 = 1\n",
    "-- AND row_number IN (1, 2, 3, 4)\n",
    "\"\"\")\n",
    "SigunguSenserTop.createOrReplaceTempView(\"SigunguSenserTop\")\n",
    "print(SigunguSenserTop.count())\n",
    "SigunguSenserTop.show(2)\n",
    "# SigunguSenserTop3.toPandas().to_csv(\"./SenserTop.csv\")\n",
    "# 250 * 4 = 1000 ->  131000 전체를 다 가져감"
   ]
  },
  {
   "cell_type": "markdown",
   "metadata": {},
   "source": [
    "#### 3.4 센터데이터를 최대한 포함하기 위해 top4로 선택함"
   ]
  },
  {
   "cell_type": "code",
   "execution_count": 12,
   "metadata": {},
   "outputs": [],
   "source": [
    "# 최종 센서데이터에 빠지는 경우가 있기 때문에 전체 여기서 센서의 개수를 정하지 못함 못함 ㅠㅠ\n",
    "# maxSql = spark.sql(\"\"\"\n",
    "# select count(*)\n",
    "# from (\n",
    "#     SELECT senserid, count(*)\n",
    "#     FROM SigunguSenserTop\n",
    "#     GROUP BY senserid\n",
    "# )\n",
    "# \"\"\")\n",
    "# 524\n",
    "# 3 : 362\n",
    "# 4 : 411 ***** 선택\n",
    "# 5 : 433\n",
    "# 7 : 458\n",
    "# maxSql.show()"
   ]
  },
  {
   "cell_type": "markdown",
   "metadata": {},
   "source": [
    "#### 3.5 거리로 가중치 계산 센서의 가까운 정도에 따라 영향을 많이 주도록 함"
   ]
  },
  {
   "cell_type": "code",
   "execution_count": 13,
   "metadata": {},
   "outputs": [],
   "source": [
    "from pyspark.sql.window import Window\n",
    "from pyspark.sql.functions import row_number, sum\n",
    "# 울산, 남구만 테스트\n",
    "# SigunguSensertmp = SigunguSenserTop.filter((SigunguSenserTop.sido == '울산광역시') & \\\n",
    "#                         (SigunguSenserTop.sigungu == '남구'))\n",
    "# SigunguSensertmp.createOrReplaceTempView(\"SigunguSensertmp\")\n",
    "# windowSp  = Window.partitionBy(\"sido\", \"sigungu\")\n",
    "# SigunguSensertmp.withColumn(\"sumUdist\", sum(SigunguSensertmp.udistance).over(windowSp)).show()\n",
    "\n",
    "# 최종 센서데이터에 빠지는 경우가 있기 때문에 전체 여기서 계산 못함 ㅠㅠ\n",
    "# windowSp  = Window.partitionBy(\"sido\", \"sigungu\")\n",
    "# SigunguSenserTop = SigunguSenserTop.withColumn(\"sumUdist\", sum(SigunguSenserTop.udistance).over(windowSp))\n",
    "\n",
    "# SigunguSenserTop = SigunguSenserTop.withColumn(\"weight\", (1/3 * (1 - SigunguSenserTop.udistance / SigunguSenserTop.sumUdist)))\n",
    "# SigunguSenserTop.createOrReplaceTempView(\"SigunguSenserTop\")\n",
    "\n",
    "# print(SigunguSenserTop.count())\n",
    "# SigunguSenserTop.show(2)\n",
    "# SigunguSenserTop.describe().show()"
   ]
  },
  {
   "cell_type": "markdown",
   "metadata": {},
   "source": [
    "### 4. 일/시간별 센터의 날씨데이터와 시도, 시군구 mapping"
   ]
  },
  {
   "cell_type": "markdown",
   "metadata": {},
   "source": [
    "#### 4.1 날씨정보 로딩 및 필요 정보 정리"
   ]
  },
  {
   "cell_type": "code",
   "execution_count": 14,
   "metadata": {},
   "outputs": [
    {
     "name": "stdout",
     "output_type": "stream",
     "text": [
      "702506\n",
      "+--------+----------+----------+----+-----+---------+-----+---------+--------+----------+--------------+------------+-------------+\n",
      "|senserid|sersername|      date|temp|ltemp|ltemptime|htemp|htemptime|rainfall|hwindspeed|hwindspeedtime|avgwindspeed|hwindspeeddeg|\n",
      "+--------+----------+----------+----+-----+---------+-----+---------+--------+----------+--------------+------------+-------------+\n",
      "|      12|안면도(감)|2017-01-01| 7.1|  4.7|      527| 10.3|     1324|     0.0|       5.8|          1243|         2.2|        200.2|\n",
      "|      12|안면도(감)|2017-01-02| 7.4|  5.2|     2322| 11.6|     1314|     0.0|       7.1|          1612|         2.2|          7.5|\n",
      "+--------+----------+----------+----+-----+---------+-----+---------+--------+----------+--------------+------------+-------------+\n",
      "only showing top 2 rows\n",
      "\n",
      "root\n",
      " |-- senserid: integer (nullable = true)\n",
      " |-- sersername: string (nullable = true)\n",
      " |-- date: string (nullable = true)\n",
      " |-- temp: double (nullable = true)\n",
      " |-- ltemp: double (nullable = true)\n",
      " |-- ltemptime: integer (nullable = true)\n",
      " |-- htemp: double (nullable = true)\n",
      " |-- htemptime: integer (nullable = true)\n",
      " |-- rainfall: double (nullable = true)\n",
      " |-- hwindspeed: double (nullable = true)\n",
      " |-- hwindspeedtime: integer (nullable = true)\n",
      " |-- avgwindspeed: double (nullable = true)\n",
      " |-- hwindspeeddeg: double (nullable = true)\n",
      "\n"
     ]
    }
   ],
   "source": [
    "AWS_D_201701_202010 = spark\\\n",
    "          .read\\\n",
    "          .option(\"inferSchema\", \"true\")\\\n",
    "          .option(\"charset\",\"euc-kr\")\\\n",
    "          .option(\"header\", \"true\")\\\n",
    "          .csv(\"data/OBS_AWS_DD_201701_202010.csv\")\n",
    "AWS_D_201701_202010 = AWS_D_201701_202010.toDF(\"senserid\", \"sersername\", \"date\", \"temp\", \"ltemp\", \"ltemptime\", \"htemp\", \"htemptime\", \\\n",
    "                                               \"rainfall\", \"hwindspeed\", \"hwindspeedtime\", \"avgwindspeed\", \"hwindspeeddeg\")\n",
    "AWS_D_201701_202010.createOrReplaceTempView(\"AWS_D_201701_202010\")\n",
    "print(AWS_D_201701_202010.count())\n",
    "AWS_D_201701_202010.show(2)\n",
    "AWS_D_201701_202010.printSchema()\n",
    "# 702506"
   ]
  },
  {
   "cell_type": "code",
   "execution_count": 40,
   "metadata": {},
   "outputs": [
    {
     "name": "stdout",
     "output_type": "stream",
     "text": [
      "+--------+----------+----------+----+-----+---------+-----+---------+--------+----------+--------------+------------+-------------+----------+----------+\n",
      "|senserid|sersername|      date|temp|ltemp|ltemptime|htemp|htemptime|rainfall|hwindspeed|hwindspeedtime|avgwindspeed|hwindspeeddeg|ltemptime1|ltemptime2|\n",
      "+--------+----------+----------+----+-----+---------+-----+---------+--------+----------+--------------+------------+-------------+----------+----------+\n",
      "|      12|안면도(감)|2017-01-01| 7.1|  4.7|      527| 10.3|     1324|     0.0|       5.8|          1243|         2.2|        200.2|     19620|      1620|\n",
      "|      12|안면도(감)|2017-01-02| 7.4|  5.2|     2322| 11.6|     1314|     0.0|       7.1|          1612|         2.2|          7.5|     84120|      1320|\n",
      "+--------+----------+----------+----+-----+---------+-----+---------+--------+----------+--------------+------------+-------------+----------+----------+\n",
      "only showing top 2 rows\n",
      "\n"
     ]
    }
   ],
   "source": [
    "from pyspark.sql.functions import expr\n",
    "# 최고/최저온도 및 최고풍속 발생 시간은 초단위로 변환하여 가중치 적용 후 시간으로 변환\n",
    "AWS_D_201701_202010 = AWS_D_201701_202010.withColumn(\"ltemptime\", AWS_D_201701_202010.ltemptime.cast(\"String\")) \\\n",
    "                                .withColumn(\"htemptime\", AWS_D_201701_202010.htemptime.cast(\"String\")) \\\n",
    "                                .withColumn(\"hwindspeedtime\", AWS_D_201701_202010.hwindspeedtime.cast(\"String\"))\n",
    "AWS_D_201701_202010 = AWS_D_201701_202010.withColumn(\"ltemptime1\", expr(\"substring(ltemptime, 1, length(ltemptime)-2)\").cast(\"int\") * 3600 \\\n",
    "                                                     + expr(\"substring(ltemptime, length(ltemptime)-1, length(ltemptime))\").cast(\"int\") * 60 )\n",
    "\n",
    "AWS_D_201701_202010.show(2)\n",
    "\n",
    "# AWS_D_201701_202010.printSchema()"
   ]
  },
  {
   "cell_type": "code",
   "execution_count": 16,
   "metadata": {},
   "outputs": [
    {
     "name": "stdout",
     "output_type": "stream",
     "text": [
      "174405250\n",
      "+------+-------+--------+----------+------------------+----------+----+-----+---------+-----+---------+--------+----------+--------------+------------+-------------+\n",
      "|  sido|sigungu|senserid|sersername|         udistance|      date|temp|ltemp|ltemptime|htemp|htemptime|rainfall|hwindspeed|hwindspeedtime|avgwindspeed|hwindspeeddeg|\n",
      "+------+-------+--------+----------+------------------+----------+----+-----+---------+-----+---------+--------+----------+--------------+------------+-------------+\n",
      "|강원도| 강릉시|     964|      마량|3.8845102818642188|2019-07-09|22.0| 20.0|      549| 25.5|     1143|     0.0|       7.8|           524|         1.6|         25.3|\n",
      "|강원도| 강릉시|     964|      마량|3.8845102818642188|2019-07-10|20.8| 20.1|     2208| 22.1|      346|    20.5|      17.1|           534|         3.7|         78.8|\n",
      "+------+-------+--------+----------+------------------+----------+----+-----+---------+-----+---------+--------+----------+--------------+------------+-------------+\n",
      "only showing top 2 rows\n",
      "\n"
     ]
    }
   ],
   "source": [
    "SigunguWeather = spark.sql(\"\"\"\n",
    "SELECT A.sido, A.sigungu, B.senserid, B.sersername\n",
    "       , A.udistance, B.date, B.temp, B.ltemp\n",
    "       , B.ltemptime\n",
    "       , B.htemp\n",
    "       , B.htemptime\n",
    "       , B.rainfall, B.hwindspeed\n",
    "       , B.hwindspeedtime\n",
    "       , B.avgwindspeed, B.hwindspeeddeg\n",
    "FROM SigunguSenserTop AS A\n",
    "\n",
    "INNER JOIN AWS_D_201701_202010 AS B\n",
    "ON A.senserid = B.senserid\n",
    "AND B.temp is not null\n",
    "AND B.ltemp is not null \n",
    "AND B.htemp is not null\n",
    "-- 센서 이상으로 온도가 나오지 않는 센서는 제거 하\n",
    "WHERE 1 = 1\n",
    "\n",
    "\"\"\")\n",
    "SigunguWeather.createOrReplaceTempView(\"SigunguWeather\")\n",
    "print(SigunguWeather.count())\n",
    "SigunguWeather.show(2)\n",
    "# SigunguWeather.describe().show() # 개 오래 걸림 ㅋㅋ\n",
    "# 175545250 # 하나의 센서가 여러 sigungu에서 쓰일 수 있음 ㅋㅋㅋㅋ 일 4년치 2억건 \n",
    "# 온도의 null 제거 후 174405250"
   ]
  },
  {
   "cell_type": "markdown",
   "metadata": {},
   "source": [
    "#### 4.2 유클리드 거리에 따라 작은 순으로 top4 추출"
   ]
  },
  {
   "cell_type": "code",
   "execution_count": 17,
   "metadata": {},
   "outputs": [
    {
     "name": "stdout",
     "output_type": "stream",
     "text": [
      "174405250\n",
      "+------+-------+--------+----------+-------------------+----------+----+-----+---------+-----+---------+--------+----------+--------------+------------+-------------+----------+\n",
      "|  sido|sigungu|senserid|sersername|          udistance|      date|temp|ltemp|ltemptime|htemp|htemptime|rainfall|hwindspeed|hwindspeedtime|avgwindspeed|hwindspeeddeg|row_number|\n",
      "+------+-------+--------+----------+-------------------+----------+----+-----+---------+-----+---------+--------+----------+--------------+------------+-------------+----------+\n",
      "|강원도| 강릉시|     524|      강문|0.05938647192316765|2017-04-13|13.7|  6.3|      611| 18.6|     1816|     0.0|      11.5|          2154|         3.8|        225.0|         1|\n",
      "|강원도| 강릉시|     566|      연곡|0.11451445804311591|2017-04-13|13.6|  3.7|      635| 18.1|     2010|     0.0|      11.7|          2205|         3.2|        241.9|         2|\n",
      "+------+-------+--------+----------+-------------------+----------+----+-----+---------+-----+---------+--------+----------+--------------+------------+-------------+----------+\n",
      "only showing top 2 rows\n",
      "\n"
     ]
    }
   ],
   "source": [
    "# 최종 센서데이터에 빠지는 경우가 있기 때문에 전체 여기서 센서의 개수를 정하지 못함 못함 ㅠㅠ\n",
    "from pyspark.sql.window import Window\n",
    "from pyspark.sql.functions import row_number\n",
    "\n",
    "# 시군구 기준으로 센서들의 udistance에 따라 순위를 줌 \n",
    "windowSpec  = Window.partitionBy(\"sido\", \"sigungu\", \"date\").orderBy(\"udistance\")\n",
    "SigunguWeather = SigunguWeather.withColumn(\"row_number\", row_number().over(windowSpec))\n",
    "\n",
    "SigunguWeather.createOrReplaceTempView(\"SigunguWeather\")\n",
    "print(SigunguWeather.count())\n",
    "SigunguWeather.show(2)\n",
    "# 174405250"
   ]
  },
  {
   "cell_type": "code",
   "execution_count": 19,
   "metadata": {},
   "outputs": [
    {
     "name": "stdout",
     "output_type": "stream",
     "text": [
      "1400000\n",
      "+------+-------+--------+----------+-------------------+----------+----+-----+---------+-----+---------+--------+----------+--------------+------------+-------------+----------+\n",
      "|  sido|sigungu|senserid|sersername|          udistance|      date|temp|ltemp|ltemptime|htemp|htemptime|rainfall|hwindspeed|hwindspeedtime|avgwindspeed|hwindspeeddeg|row_number|\n",
      "+------+-------+--------+----------+-------------------+----------+----+-----+---------+-----+---------+--------+----------+--------------+------------+-------------+----------+\n",
      "|강원도| 강릉시|     524|      강문|0.05938647192316765|2017-04-13|13.7|  6.3|      611| 18.6|     1816|     0.0|      11.5|          2154|         3.8|        225.0|         1|\n",
      "|강원도| 강릉시|     566|      연곡|0.11451445804311591|2017-04-13|13.6|  3.7|      635| 18.1|     2010|     0.0|      11.7|          2205|         3.2|        241.9|         2|\n",
      "+------+-------+--------+----------+-------------------+----------+----+-----+---------+-----+---------+--------+----------+--------------+------------+-------------+----------+\n",
      "only showing top 2 rows\n",
      "\n"
     ]
    }
   ],
   "source": [
    "# udistance에 따른 순위 중 상위 4개만 추출\n",
    "SigunguSenserTop4 = spark.sql(\"\"\"\n",
    "    SELECT *\n",
    "    FROM SigunguWeather \n",
    "    WHERE 1 = 1\n",
    "    AND row_number IN (1, 2, 3, 4)\n",
    "    \"\"\")\n",
    "SigunguSenserTop4.createOrReplaceTempView(\"SigunguSenserTop4\")\n",
    "print(SigunguSenserTop4.count())\n",
    "SigunguSenserTop4.show(2)\n",
    "# 1400000 = 250sigungu * 4senser * 1400days\n",
    "# 2017\t365\n",
    "# 2018\t365\n",
    "# 2019\t365\n",
    "# 2020\t305\n",
    "# 합게 1400"
   ]
  },
  {
   "cell_type": "markdown",
   "metadata": {},
   "source": [
    "#### 4.3 검증"
   ]
  },
  {
   "cell_type": "code",
   "execution_count": 25,
   "metadata": {},
   "outputs": [
    {
     "name": "stdout",
     "output_type": "stream",
     "text": [
      "+----+-------+----+--------+\n",
      "|sido|sigungu|date|count(1)|\n",
      "+----+-------+----+--------+\n",
      "+----+-------+----+--------+\n",
      "\n"
     ]
    }
   ],
   "source": [
    "# 시간 좀 걸림\n",
    "maxSql = spark.sql(\"\"\"\n",
    "    SELECT sido\n",
    "        , sigungu\n",
    "        , date\n",
    "        , count(*)\n",
    "    FROM SigunguSenserTop4\n",
    "    WHERE 1 = 1\n",
    "    GROUP BY sido, sigungu, date\n",
    "    HAVING count(*) < 4\n",
    "\"\"\")\n",
    "maxSql.show()"
   ]
  },
  {
   "cell_type": "code",
   "execution_count": null,
   "metadata": {},
   "outputs": [],
   "source": [
    "# This function use to print feature with null values and null count \n",
    "def null_value_count(df):\n",
    "  null_columns_counts = []\n",
    "  numRows = df.count()\n",
    "  for k in df.columns:\n",
    "    nullRows = df.where(col(k).isNull()).count()\n",
    "    if(nullRows > 0):\n",
    "      temp = k,nullRows\n",
    "      null_columns_counts.append(temp)\n",
    "  return(null_columns_counts)\n",
    "\n",
    "# 겁나 오래 돌아 감\n",
    "# null_columns_count_list = null_value_count(SigunguSenserTop4)\n",
    "# null_columns_count_list"
   ]
  },
  {
   "cell_type": "code",
   "execution_count": null,
   "metadata": {},
   "outputs": [],
   "source": [
    "# LastSenserInfo.describe().show()"
   ]
  },
  {
   "cell_type": "markdown",
   "metadata": {},
   "source": [
    "#### 4.4 센서와 시군구 거리에 의한 가중치 구하기"
   ]
  },
  {
   "cell_type": "code",
   "execution_count": 20,
   "metadata": {},
   "outputs": [
    {
     "name": "stdout",
     "output_type": "stream",
     "text": [
      "1400000\n",
      "+------+-------+--------+----------+-------------------+----------+----+-----+---------+-----+---------+--------+----------+--------------+------------+-------------+----------+------------------+------------------+\n",
      "|  sido|sigungu|senserid|sersername|          udistance|      date|temp|ltemp|ltemptime|htemp|htemptime|rainfall|hwindspeed|hwindspeedtime|avgwindspeed|hwindspeeddeg|row_number|          sumUdist|            weight|\n",
      "+------+-------+--------+----------+-------------------+----------+----+-----+---------+-----+---------+--------+----------+--------------+------------+-------------+----------+------------------+------------------+\n",
      "|강원도| 강릉시|     524|      강문|0.05938647192316765|2017-04-13|13.7|  6.3|      611| 18.6|     1816|     0.0|      11.5|          2154|         3.8|        225.0|         1|0.5086923993644381|0.2944188721269374|\n",
      "|강원도| 강릉시|     566|      연곡|0.11451445804311591|2017-04-13|13.6|  3.7|      635| 18.1|     2010|     0.0|      11.7|          2205|         3.2|        241.9|         2|0.5086923993644381|0.2582948895467473|\n",
      "+------+-------+--------+----------+-------------------+----------+----+-----+---------+-----+---------+--------+----------+--------------+------------+-------------+----------+------------------+------------------+\n",
      "only showing top 2 rows\n",
      "\n"
     ]
    }
   ],
   "source": [
    "# w1 = 1/3 * [1 - {|d-a1|/(|d-a1| + |d-a2| + |d-a3| + |d-a4|)}]\n",
    "# w2 = 1/3 * [1 - {|d-a2|/(|d-a1| + |d-a2| + |d-a3| + |d-a4|)}]\n",
    "# w3 = 1/3 * [1 - {|d-a3|/(|d-a1| + |d-a2| + |d-a3| + |d-a4|)}]\n",
    "# w4 = 1/3 * [1 - {|d-a4|/(|d-a1| + |d-a2| + |d-a3| + |d-a4|)}]\n",
    "from pyspark.sql.functions import row_number, sum\n",
    "\n",
    "windowSp  = Window.partitionBy(\"sido\", \"sigungu\", \"date\")\n",
    "SigunguSenserTop4 = SigunguSenserTop4.withColumn(\"sumUdist\", sum(SigunguSenserTop4.udistance).over(windowSp))\n",
    "\n",
    "SigunguSenserTop4 = SigunguSenserTop4.withColumn(\"weight\", (1/3 * (1 - SigunguSenserTop4.udistance / SigunguSenserTop4.sumUdist)))\n",
    "SigunguSenserTop4.createOrReplaceTempView(\"SigunguSenserTop4\")\n",
    "print(SigunguSenserTop4.count())\n",
    "SigunguSenserTop4.show(2)"
   ]
  },
  {
   "cell_type": "code",
   "execution_count": 22,
   "metadata": {},
   "outputs": [
    {
     "name": "stdout",
     "output_type": "stream",
     "text": [
      "+------+-------+--------+----------+-------------------+----------+----+-----+---------+-----+---------+--------+----------+--------------+------------+-------------+----------+------------------+-------------------+\n",
      "|  sido|sigungu|senserid|sersername|          udistance|      date|temp|ltemp|ltemptime|htemp|htemptime|rainfall|hwindspeed|hwindspeedtime|avgwindspeed|hwindspeeddeg|row_number|          sumUdist|             weight|\n",
      "+------+-------+--------+----------+-------------------+----------+----+-----+---------+-----+---------+--------+----------+--------------+------------+-------------+----------+------------------+-------------------+\n",
      "|강원도| 강릉시|     524|      강문|0.05938647192316765|2017-04-13|13.7|  6.3|      611| 18.6|     1816|     0.0|      11.5|          2154|         3.8|        225.0|         1|0.5086923993644381| 0.2944188721269374|\n",
      "|강원도| 강릉시|     566|      연곡|0.11451445804311591|2017-04-13|13.6|  3.7|      635| 18.1|     2010|     0.0|      11.7|          2205|         3.2|        241.9|         2|0.5086923993644381| 0.2582948895467473|\n",
      "|강원도| 강릉시|     523|    주문진|0.15620649973694223|2017-04-13|12.6|  2.5|      610| 18.1|     2110|     0.0|      12.8|          2314|         2.7|        236.3|         3|0.5086923993644381| 0.2309751433727552|\n",
      "|강원도| 강릉시|     497|    삽당령|0.17858496966121226|2017-04-13| 8.7| -3.6|      606| 16.5|     1346|     0.0|       9.5|          1934|         1.5|        213.9|         4|0.5086923993644381|0.21631109495356007|\n",
      "+------+-------+--------+----------+-------------------+----------+----+-----+---------+-----+---------+--------+----------+--------------+------------+-------------+----------+------------------+-------------------+\n",
      "\n"
     ]
    }
   ],
   "source": [
    "maxSql = spark.sql(\"\"\"\n",
    "    SELECT *\n",
    "    FROM SigunguSenserTop4\n",
    "    WHERE 1 = 1\n",
    "    AND sido = '강원도'\n",
    "    AND sigungu = '강릉시'\n",
    "    AND date = '2017-04-13'\n",
    "\"\"\")\n",
    "maxSql.show()"
   ]
  },
  {
   "cell_type": "markdown",
   "metadata": {},
   "source": [
    "### 5. 가중치를 적용한 일별 시군구의 날씨 정보 추출"
   ]
  },
  {
   "cell_type": "code",
   "execution_count": 23,
   "metadata": {},
   "outputs": [
    {
     "name": "stdout",
     "output_type": "stream",
     "text": [
      "1400000\n",
      "+------+-------+--------+----------+-------------------+----------+----+-----+---------+-----+---------+--------+----------+--------------+------------+-------------+----------+------------------+------------------+-----------------+------------------+------------------+------------------+-----------------+----------+------------------+-----------------+------------------+-----------------+\n",
      "|  sido|sigungu|senserid|sersername|          udistance|      date|temp|ltemp|ltemptime|htemp|htemptime|rainfall|hwindspeed|hwindspeedtime|avgwindspeed|hwindspeeddeg|row_number|          sumUdist|            weight|           w_temp|           w_ltemp|       w_ltemptime|           w_htemp|      w_htemptime|w_rainfall|      w_hwindspeed| w_hwindspeedtime|    w_avgwindspeed|  w_hwindspeeddeg|\n",
      "+------+-------+--------+----------+-------------------+----------+----+-----+---------+-----+---------+--------+----------+--------------+------------+-------------+----------+------------------+------------------+-----------------+------------------+------------------+------------------+-----------------+----------+------------------+-----------------+------------------+-----------------+\n",
      "|강원도| 강릉시|     524|      강문|0.05938647192316765|2017-04-13|13.7|  6.3|      611| 18.6|     1816|     0.0|      11.5|          2154|         3.8|        225.0|         1|0.5086923993644381|0.2944188721269374|4.033538548139042|1.8548388943997056|179.88993086955875|5.4761910215610365|534.6646717825183|       0.0|3.3858170294597802|634.1782505614232| 1.118791714082362|66.24424622856091|\n",
      "|강원도| 강릉시|     566|      연곡|0.11451445804311591|2017-04-13|13.6|  3.7|      635| 18.1|     2010|     0.0|      11.7|          2205|         3.2|        241.9|         2|0.5086923993644381|0.2582948895467473|3.512810497835763| 0.955691091322965|164.01725486218453| 4.675137500796127| 519.172727988962|       0.0| 3.022050207696943|569.5402314505777|0.8265436465495913|62.48153378135817|\n",
      "+------+-------+--------+----------+-------------------+----------+----+-----+---------+-----+---------+--------+----------+--------------+------------+-------------+----------+------------------+------------------+-----------------+------------------+------------------+------------------+-----------------+----------+------------------+-----------------+------------------+-----------------+\n",
      "only showing top 2 rows\n",
      "\n"
     ]
    }
   ],
   "source": [
    "# 각 변수에 가중치를 적용함\n",
    "SigunguSenserTop4_w = spark.sql(\"\"\"\n",
    "    SELECT   *\n",
    "            ,temp           * weight  AS w_temp\n",
    "            ,ltemp          * weight  AS w_ltemp\n",
    "            ,ltemptime      * weight  AS w_ltemptime\n",
    "            ,htemp          * weight  AS w_htemp\n",
    "            ,htemptime      * weight  AS w_htemptime\n",
    "            ,rainfall       * weight  AS w_rainfall\n",
    "            ,hwindspeed     * weight  AS w_hwindspeed\n",
    "            ,hwindspeedtime * weight  AS w_hwindspeedtime\n",
    "            ,avgwindspeed   * weight  AS w_avgwindspeed\n",
    "            ,hwindspeeddeg  * weight  AS w_hwindspeeddeg\n",
    "    FROM SigunguSenserTop4 \n",
    "    WHERE 1 = 1\n",
    "    \"\"\")\n",
    "SigunguSenserTop4_w.createOrReplaceTempView(\"SigunguSenserTop4_w\")\n",
    "print(SigunguSenserTop4_w.count())\n",
    "SigunguSenserTop4_w.show(2)"
   ]
  },
  {
   "cell_type": "code",
   "execution_count": 24,
   "metadata": {},
   "outputs": [
    {
     "name": "stdout",
     "output_type": "stream",
     "text": [
      "350000\n",
      "+----------+------+-------+------------------+------------------+-----------------+------------------+------------------+-----------------+-----------------+------------------+------------------+------------------+\n",
      "|      date|  sido|sigungu|            w_temp|           w_ltemp|      w_ltemptime|           w_htemp|       w_htemptime|       w_rainfall|     w_hwindspeed|  w_hwindspeedtime|    w_avgwindspeed|   w_hwindspeeddeg|\n",
      "+----------+------+-------+------------------+------------------+-----------------+------------------+------------------+-----------------+-----------------+------------------+------------------+------------------+\n",
      "|2017-04-13|강원도| 강릉시|12.338542378567492| 2.609247902321742|615.8865467309814|17.901111684137774|1832.3496860954856|              0.0|11.41930447438681|2156.5406214167415|2.8934348901687326|229.57414959946763|\n",
      "|2017-07-10|강원도| 강릉시| 24.28263807177009|22.197252267083215|717.4581367144532| 27.07465688441703|1537.2164144231956|9.243996505561913| 6.71396426647102|1180.5921512968036|1.2590846094918273|169.09325546063297|\n",
      "+----------+------+-------+------------------+------------------+-----------------+------------------+------------------+-----------------+-----------------+------------------+------------------+------------------+\n",
      "only showing top 2 rows\n",
      "\n"
     ]
    }
   ],
   "source": [
    "# 각 변수에 가중치를 적용함\n",
    "AWS_D_Weather = spark.sql(\"\"\"\n",
    "    SELECT  date  \n",
    "            ,sido\n",
    "            ,sigungu\n",
    "            \n",
    "            ,sum(w_temp)                 AS w_temp\n",
    "            ,sum(w_ltemp)                AS w_ltemp\n",
    "            ,max(w_ltemptime)            AS w_ltemptime\n",
    "            ,sum(w_htemp)                AS w_htemp\n",
    "            ,max(w_htemptime)            AS w_htemptime\n",
    "            ,sum(w_rainfall)             AS w_rainfall\n",
    "            ,sum(w_hwindspeed)           AS w_hwindspeed\n",
    "            ,max(w_hwindspeedtime)       AS w_hwindspeedtime\n",
    "            ,sum(w_avgwindspeed)         AS w_avgwindspeed\n",
    "            ,max(w_hwindspeeddeg)        AS w_hwindspeeddeg\n",
    "            \n",
    "    FROM SigunguSenserTop4_w \n",
    "    WHERE 1 = 1\n",
    "    GROUP BY date  \n",
    "            ,sido\n",
    "            ,sigungu\n",
    "    \"\"\")\n",
    "AWS_D_Weather.createOrReplaceTempView(\"AWS_D_Weather\")\n",
    "print(AWS_D_Weather.count())\n",
    "AWS_D_Weather.show(2)\n",
    "# 250 * 1400 = 350000"
   ]
  },
  {
   "cell_type": "code",
   "execution_count": 28,
   "metadata": {},
   "outputs": [],
   "source": [
    "pdf_AWS_D_Weather = AWS_D_Weather.toPandas()\n",
    "pdf_AWS_D_Weather.to_csv(\"./AWS_D_Weather.csv\", index = False)"
   ]
  },
  {
   "cell_type": "code",
   "execution_count": 30,
   "metadata": {},
   "outputs": [
    {
     "ename": "ValueError",
     "evalue": "Could not interpret value `sigu` for parameter `hue`",
     "output_type": "error",
     "traceback": [
      "\u001b[1;31m---------------------------------------------------------------------------\u001b[0m",
      "\u001b[1;31mValueError\u001b[0m                                Traceback (most recent call last)",
      "\u001b[1;32m<ipython-input-30-8453f36289ad>\u001b[0m in \u001b[0;36m<module>\u001b[1;34m\u001b[0m\n\u001b[0;32m     10\u001b[0m \u001b[1;33m\u001b[0m\u001b[0m\n\u001b[0;32m     11\u001b[0m \u001b[0mplt\u001b[0m\u001b[1;33m.\u001b[0m\u001b[0mfigure\u001b[0m\u001b[1;33m(\u001b[0m\u001b[0mfigsize\u001b[0m\u001b[1;33m=\u001b[0m\u001b[1;33m(\u001b[0m\u001b[1;36m35\u001b[0m\u001b[1;33m,\u001b[0m \u001b[1;36m15\u001b[0m\u001b[1;33m)\u001b[0m\u001b[1;33m)\u001b[0m\u001b[1;33m\u001b[0m\u001b[1;33m\u001b[0m\u001b[0m\n\u001b[1;32m---> 12\u001b[1;33m \u001b[0msns\u001b[0m\u001b[1;33m.\u001b[0m\u001b[0mlineplot\u001b[0m\u001b[1;33m(\u001b[0m\u001b[0mx\u001b[0m\u001b[1;33m=\u001b[0m\u001b[1;34m\"date\"\u001b[0m\u001b[1;33m,\u001b[0m \u001b[0my\u001b[0m\u001b[1;33m=\u001b[0m\u001b[1;34m\"w_temp\"\u001b[0m\u001b[1;33m,\u001b[0m \u001b[0mhue\u001b[0m\u001b[1;33m=\u001b[0m\u001b[1;34m\"sigu\"\u001b[0m\u001b[1;33m,\u001b[0m \u001b[0mdata\u001b[0m\u001b[1;33m=\u001b[0m\u001b[0mpdf_AWS_D_Weather\u001b[0m\u001b[1;33m)\u001b[0m\u001b[1;33m\u001b[0m\u001b[1;33m\u001b[0m\u001b[0m\n\u001b[0m\u001b[0;32m     13\u001b[0m \u001b[0mplt\u001b[0m\u001b[1;33m.\u001b[0m\u001b[0mshow\u001b[0m\u001b[1;33m(\u001b[0m\u001b[1;33m)\u001b[0m\u001b[1;33m\u001b[0m\u001b[1;33m\u001b[0m\u001b[0m\n",
      "\u001b[1;32m~\\anaconda3\\envs\\pydatavenv\\lib\\site-packages\\seaborn\\_decorators.py\u001b[0m in \u001b[0;36minner_f\u001b[1;34m(*args, **kwargs)\u001b[0m\n\u001b[0;32m     44\u001b[0m             )\n\u001b[0;32m     45\u001b[0m         \u001b[0mkwargs\u001b[0m\u001b[1;33m.\u001b[0m\u001b[0mupdate\u001b[0m\u001b[1;33m(\u001b[0m\u001b[1;33m{\u001b[0m\u001b[0mk\u001b[0m\u001b[1;33m:\u001b[0m \u001b[0marg\u001b[0m \u001b[1;32mfor\u001b[0m \u001b[0mk\u001b[0m\u001b[1;33m,\u001b[0m \u001b[0marg\u001b[0m \u001b[1;32min\u001b[0m \u001b[0mzip\u001b[0m\u001b[1;33m(\u001b[0m\u001b[0msig\u001b[0m\u001b[1;33m.\u001b[0m\u001b[0mparameters\u001b[0m\u001b[1;33m,\u001b[0m \u001b[0margs\u001b[0m\u001b[1;33m)\u001b[0m\u001b[1;33m}\u001b[0m\u001b[1;33m)\u001b[0m\u001b[1;33m\u001b[0m\u001b[1;33m\u001b[0m\u001b[0m\n\u001b[1;32m---> 46\u001b[1;33m         \u001b[1;32mreturn\u001b[0m \u001b[0mf\u001b[0m\u001b[1;33m(\u001b[0m\u001b[1;33m**\u001b[0m\u001b[0mkwargs\u001b[0m\u001b[1;33m)\u001b[0m\u001b[1;33m\u001b[0m\u001b[1;33m\u001b[0m\u001b[0m\n\u001b[0m\u001b[0;32m     47\u001b[0m     \u001b[1;32mreturn\u001b[0m \u001b[0minner_f\u001b[0m\u001b[1;33m\u001b[0m\u001b[1;33m\u001b[0m\u001b[0m\n\u001b[0;32m     48\u001b[0m \u001b[1;33m\u001b[0m\u001b[0m\n",
      "\u001b[1;32m~\\anaconda3\\envs\\pydatavenv\\lib\\site-packages\\seaborn\\relational.py\u001b[0m in \u001b[0;36mlineplot\u001b[1;34m(x, y, hue, size, style, data, palette, hue_order, hue_norm, sizes, size_order, size_norm, dashes, markers, style_order, units, estimator, ci, n_boot, seed, sort, err_style, err_kws, legend, ax, **kwargs)\u001b[0m\n\u001b[0;32m    679\u001b[0m         \u001b[0mdata\u001b[0m\u001b[1;33m=\u001b[0m\u001b[0mdata\u001b[0m\u001b[1;33m,\u001b[0m \u001b[0mvariables\u001b[0m\u001b[1;33m=\u001b[0m\u001b[0mvariables\u001b[0m\u001b[1;33m,\u001b[0m\u001b[1;33m\u001b[0m\u001b[1;33m\u001b[0m\u001b[0m\n\u001b[0;32m    680\u001b[0m         \u001b[0mestimator\u001b[0m\u001b[1;33m=\u001b[0m\u001b[0mestimator\u001b[0m\u001b[1;33m,\u001b[0m \u001b[0mci\u001b[0m\u001b[1;33m=\u001b[0m\u001b[0mci\u001b[0m\u001b[1;33m,\u001b[0m \u001b[0mn_boot\u001b[0m\u001b[1;33m=\u001b[0m\u001b[0mn_boot\u001b[0m\u001b[1;33m,\u001b[0m \u001b[0mseed\u001b[0m\u001b[1;33m=\u001b[0m\u001b[0mseed\u001b[0m\u001b[1;33m,\u001b[0m\u001b[1;33m\u001b[0m\u001b[1;33m\u001b[0m\u001b[0m\n\u001b[1;32m--> 681\u001b[1;33m         \u001b[0msort\u001b[0m\u001b[1;33m=\u001b[0m\u001b[0msort\u001b[0m\u001b[1;33m,\u001b[0m \u001b[0merr_style\u001b[0m\u001b[1;33m=\u001b[0m\u001b[0merr_style\u001b[0m\u001b[1;33m,\u001b[0m \u001b[0merr_kws\u001b[0m\u001b[1;33m=\u001b[0m\u001b[0merr_kws\u001b[0m\u001b[1;33m,\u001b[0m \u001b[0mlegend\u001b[0m\u001b[1;33m=\u001b[0m\u001b[0mlegend\u001b[0m\u001b[1;33m,\u001b[0m\u001b[1;33m\u001b[0m\u001b[1;33m\u001b[0m\u001b[0m\n\u001b[0m\u001b[0;32m    682\u001b[0m     )\n\u001b[0;32m    683\u001b[0m \u001b[1;33m\u001b[0m\u001b[0m\n",
      "\u001b[1;32m~\\anaconda3\\envs\\pydatavenv\\lib\\site-packages\\seaborn\\relational.py\u001b[0m in \u001b[0;36m__init__\u001b[1;34m(self, data, variables, estimator, ci, n_boot, seed, sort, err_style, err_kws, legend)\u001b[0m\n\u001b[0;32m    365\u001b[0m         )\n\u001b[0;32m    366\u001b[0m \u001b[1;33m\u001b[0m\u001b[0m\n\u001b[1;32m--> 367\u001b[1;33m         \u001b[0msuper\u001b[0m\u001b[1;33m(\u001b[0m\u001b[1;33m)\u001b[0m\u001b[1;33m.\u001b[0m\u001b[0m__init__\u001b[0m\u001b[1;33m(\u001b[0m\u001b[0mdata\u001b[0m\u001b[1;33m=\u001b[0m\u001b[0mdata\u001b[0m\u001b[1;33m,\u001b[0m \u001b[0mvariables\u001b[0m\u001b[1;33m=\u001b[0m\u001b[0mvariables\u001b[0m\u001b[1;33m)\u001b[0m\u001b[1;33m\u001b[0m\u001b[1;33m\u001b[0m\u001b[0m\n\u001b[0m\u001b[0;32m    368\u001b[0m \u001b[1;33m\u001b[0m\u001b[0m\n\u001b[0;32m    369\u001b[0m         \u001b[0mself\u001b[0m\u001b[1;33m.\u001b[0m\u001b[0mestimator\u001b[0m \u001b[1;33m=\u001b[0m \u001b[0mestimator\u001b[0m\u001b[1;33m\u001b[0m\u001b[1;33m\u001b[0m\u001b[0m\n",
      "\u001b[1;32m~\\anaconda3\\envs\\pydatavenv\\lib\\site-packages\\seaborn\\_core.py\u001b[0m in \u001b[0;36m__init__\u001b[1;34m(self, data, variables)\u001b[0m\n\u001b[0;32m    602\u001b[0m     \u001b[1;32mdef\u001b[0m \u001b[0m__init__\u001b[0m\u001b[1;33m(\u001b[0m\u001b[0mself\u001b[0m\u001b[1;33m,\u001b[0m \u001b[0mdata\u001b[0m\u001b[1;33m=\u001b[0m\u001b[1;32mNone\u001b[0m\u001b[1;33m,\u001b[0m \u001b[0mvariables\u001b[0m\u001b[1;33m=\u001b[0m\u001b[1;33m{\u001b[0m\u001b[1;33m}\u001b[0m\u001b[1;33m)\u001b[0m\u001b[1;33m:\u001b[0m\u001b[1;33m\u001b[0m\u001b[1;33m\u001b[0m\u001b[0m\n\u001b[0;32m    603\u001b[0m \u001b[1;33m\u001b[0m\u001b[0m\n\u001b[1;32m--> 604\u001b[1;33m         \u001b[0mself\u001b[0m\u001b[1;33m.\u001b[0m\u001b[0massign_variables\u001b[0m\u001b[1;33m(\u001b[0m\u001b[0mdata\u001b[0m\u001b[1;33m,\u001b[0m \u001b[0mvariables\u001b[0m\u001b[1;33m)\u001b[0m\u001b[1;33m\u001b[0m\u001b[1;33m\u001b[0m\u001b[0m\n\u001b[0m\u001b[0;32m    605\u001b[0m \u001b[1;33m\u001b[0m\u001b[0m\n\u001b[0;32m    606\u001b[0m         \u001b[1;32mfor\u001b[0m \u001b[0mvar\u001b[0m\u001b[1;33m,\u001b[0m \u001b[0mcls\u001b[0m \u001b[1;32min\u001b[0m \u001b[0mself\u001b[0m\u001b[1;33m.\u001b[0m\u001b[0m_semantic_mappings\u001b[0m\u001b[1;33m.\u001b[0m\u001b[0mitems\u001b[0m\u001b[1;33m(\u001b[0m\u001b[1;33m)\u001b[0m\u001b[1;33m:\u001b[0m\u001b[1;33m\u001b[0m\u001b[1;33m\u001b[0m\u001b[0m\n",
      "\u001b[1;32m~\\anaconda3\\envs\\pydatavenv\\lib\\site-packages\\seaborn\\_core.py\u001b[0m in \u001b[0;36massign_variables\u001b[1;34m(self, data, variables)\u001b[0m\n\u001b[0;32m    666\u001b[0m             \u001b[0mself\u001b[0m\u001b[1;33m.\u001b[0m\u001b[0minput_format\u001b[0m \u001b[1;33m=\u001b[0m \u001b[1;34m\"long\"\u001b[0m\u001b[1;33m\u001b[0m\u001b[1;33m\u001b[0m\u001b[0m\n\u001b[0;32m    667\u001b[0m             plot_data, variables = self._assign_variables_longform(\n\u001b[1;32m--> 668\u001b[1;33m                 \u001b[0mdata\u001b[0m\u001b[1;33m,\u001b[0m \u001b[1;33m**\u001b[0m\u001b[0mvariables\u001b[0m\u001b[1;33m,\u001b[0m\u001b[1;33m\u001b[0m\u001b[1;33m\u001b[0m\u001b[0m\n\u001b[0m\u001b[0;32m    669\u001b[0m             )\n\u001b[0;32m    670\u001b[0m \u001b[1;33m\u001b[0m\u001b[0m\n",
      "\u001b[1;32m~\\anaconda3\\envs\\pydatavenv\\lib\\site-packages\\seaborn\\_core.py\u001b[0m in \u001b[0;36m_assign_variables_longform\u001b[1;34m(self, data, **kwargs)\u001b[0m\n\u001b[0;32m    885\u001b[0m                     \u001b[1;31m# We don't know what this name means\u001b[0m\u001b[1;33m\u001b[0m\u001b[1;33m\u001b[0m\u001b[1;33m\u001b[0m\u001b[0m\n\u001b[0;32m    886\u001b[0m                     \u001b[0merr\u001b[0m \u001b[1;33m=\u001b[0m \u001b[1;34mf\"Could not interpret value `{val}` for parameter `{key}`\"\u001b[0m\u001b[1;33m\u001b[0m\u001b[1;33m\u001b[0m\u001b[0m\n\u001b[1;32m--> 887\u001b[1;33m                     \u001b[1;32mraise\u001b[0m \u001b[0mValueError\u001b[0m\u001b[1;33m(\u001b[0m\u001b[0merr\u001b[0m\u001b[1;33m)\u001b[0m\u001b[1;33m\u001b[0m\u001b[1;33m\u001b[0m\u001b[0m\n\u001b[0m\u001b[0;32m    888\u001b[0m \u001b[1;33m\u001b[0m\u001b[0m\n\u001b[0;32m    889\u001b[0m             \u001b[1;32melse\u001b[0m\u001b[1;33m:\u001b[0m\u001b[1;33m\u001b[0m\u001b[1;33m\u001b[0m\u001b[0m\n",
      "\u001b[1;31mValueError\u001b[0m: Could not interpret value `sigu` for parameter `hue`"
     ]
    },
    {
     "data": {
      "text/plain": [
       "<Figure size 2520x1080 with 0 Axes>"
      ]
     },
     "metadata": {},
     "output_type": "display_data"
    }
   ],
   "source": [
    "import matplotlib.pyplot as plt\n",
    "import seaborn as sns\n",
    "import numpy as np\n",
    "\n",
    "# matplotlib 한글 폰트 오류 문제 해결\n",
    "from matplotlib import font_manager, rc\n",
    "font_path = \"C:/PyStexam/data/THEdog.ttf\"   #폰트파일의 위치\n",
    "font_name = font_manager.FontProperties(fname=font_path).get_name()\n",
    "rc('font', family=font_name)\n",
    "\n",
    "plt.figure(figsize=(35, 15))\n",
    "sns.lineplot(x=\"date\", y=\"w_temp\", hue=\"sigungu\", data=pdf_AWS_D_Weather)\n",
    "plt.show()"
   ]
  },
  {
   "cell_type": "code",
   "execution_count": null,
   "metadata": {},
   "outputs": [
    {
     "ename": "KeyboardInterrupt",
     "evalue": "",
     "output_type": "error",
     "traceback": [
      "\u001b[1;31m---------------------------------------------------------------------------\u001b[0m",
      "\u001b[1;31mKeyboardInterrupt\u001b[0m                         Traceback (most recent call last)",
      "\u001b[1;32m<ipython-input-31-c219d79a8dc6>\u001b[0m in \u001b[0;36m<module>\u001b[1;34m\u001b[0m\n\u001b[1;32m----> 1\u001b[1;33m \u001b[0msns\u001b[0m\u001b[1;33m.\u001b[0m\u001b[0mboxplot\u001b[0m\u001b[1;33m(\u001b[0m\u001b[0mx\u001b[0m\u001b[1;33m=\u001b[0m\u001b[1;34m'date'\u001b[0m\u001b[1;33m,\u001b[0m \u001b[0my\u001b[0m\u001b[1;33m=\u001b[0m\u001b[1;34m'w_temp'\u001b[0m\u001b[1;33m,\u001b[0m \u001b[0mhue\u001b[0m\u001b[1;33m=\u001b[0m\u001b[1;34m'sigungu'\u001b[0m\u001b[1;33m,\u001b[0m \u001b[0mdata\u001b[0m\u001b[1;33m=\u001b[0m\u001b[0mpdf_AWS_D_Weather\u001b[0m\u001b[1;33m)\u001b[0m\u001b[1;33m\u001b[0m\u001b[1;33m\u001b[0m\u001b[0m\n\u001b[0m",
      "\u001b[1;32m~\\anaconda3\\envs\\pydatavenv\\lib\\site-packages\\seaborn\\_decorators.py\u001b[0m in \u001b[0;36minner_f\u001b[1;34m(*args, **kwargs)\u001b[0m\n\u001b[0;32m     44\u001b[0m             )\n\u001b[0;32m     45\u001b[0m         \u001b[0mkwargs\u001b[0m\u001b[1;33m.\u001b[0m\u001b[0mupdate\u001b[0m\u001b[1;33m(\u001b[0m\u001b[1;33m{\u001b[0m\u001b[0mk\u001b[0m\u001b[1;33m:\u001b[0m \u001b[0marg\u001b[0m \u001b[1;32mfor\u001b[0m \u001b[0mk\u001b[0m\u001b[1;33m,\u001b[0m \u001b[0marg\u001b[0m \u001b[1;32min\u001b[0m \u001b[0mzip\u001b[0m\u001b[1;33m(\u001b[0m\u001b[0msig\u001b[0m\u001b[1;33m.\u001b[0m\u001b[0mparameters\u001b[0m\u001b[1;33m,\u001b[0m \u001b[0margs\u001b[0m\u001b[1;33m)\u001b[0m\u001b[1;33m}\u001b[0m\u001b[1;33m)\u001b[0m\u001b[1;33m\u001b[0m\u001b[1;33m\u001b[0m\u001b[0m\n\u001b[1;32m---> 46\u001b[1;33m         \u001b[1;32mreturn\u001b[0m \u001b[0mf\u001b[0m\u001b[1;33m(\u001b[0m\u001b[1;33m**\u001b[0m\u001b[0mkwargs\u001b[0m\u001b[1;33m)\u001b[0m\u001b[1;33m\u001b[0m\u001b[1;33m\u001b[0m\u001b[0m\n\u001b[0m\u001b[0;32m     47\u001b[0m     \u001b[1;32mreturn\u001b[0m \u001b[0minner_f\u001b[0m\u001b[1;33m\u001b[0m\u001b[1;33m\u001b[0m\u001b[0m\n\u001b[0;32m     48\u001b[0m \u001b[1;33m\u001b[0m\u001b[0m\n",
      "\u001b[1;32m~\\anaconda3\\envs\\pydatavenv\\lib\\site-packages\\seaborn\\categorical.py\u001b[0m in \u001b[0;36mboxplot\u001b[1;34m(x, y, hue, data, order, hue_order, orient, color, palette, saturation, width, dodge, fliersize, linewidth, whis, ax, **kwargs)\u001b[0m\n\u001b[0;32m   2236\u001b[0m     \u001b[0mkwargs\u001b[0m\u001b[1;33m.\u001b[0m\u001b[0mupdate\u001b[0m\u001b[1;33m(\u001b[0m\u001b[0mdict\u001b[0m\u001b[1;33m(\u001b[0m\u001b[0mwhis\u001b[0m\u001b[1;33m=\u001b[0m\u001b[0mwhis\u001b[0m\u001b[1;33m)\u001b[0m\u001b[1;33m)\u001b[0m\u001b[1;33m\u001b[0m\u001b[1;33m\u001b[0m\u001b[0m\n\u001b[0;32m   2237\u001b[0m \u001b[1;33m\u001b[0m\u001b[0m\n\u001b[1;32m-> 2238\u001b[1;33m     \u001b[0mplotter\u001b[0m\u001b[1;33m.\u001b[0m\u001b[0mplot\u001b[0m\u001b[1;33m(\u001b[0m\u001b[0max\u001b[0m\u001b[1;33m,\u001b[0m \u001b[0mkwargs\u001b[0m\u001b[1;33m)\u001b[0m\u001b[1;33m\u001b[0m\u001b[1;33m\u001b[0m\u001b[0m\n\u001b[0m\u001b[0;32m   2239\u001b[0m     \u001b[1;32mreturn\u001b[0m \u001b[0max\u001b[0m\u001b[1;33m\u001b[0m\u001b[1;33m\u001b[0m\u001b[0m\n\u001b[0;32m   2240\u001b[0m \u001b[1;33m\u001b[0m\u001b[0m\n",
      "\u001b[1;32m~\\anaconda3\\envs\\pydatavenv\\lib\\site-packages\\seaborn\\categorical.py\u001b[0m in \u001b[0;36mplot\u001b[1;34m(self, ax, boxplot_kws)\u001b[0m\n\u001b[0;32m    507\u001b[0m     \u001b[1;32mdef\u001b[0m \u001b[0mplot\u001b[0m\u001b[1;33m(\u001b[0m\u001b[0mself\u001b[0m\u001b[1;33m,\u001b[0m \u001b[0max\u001b[0m\u001b[1;33m,\u001b[0m \u001b[0mboxplot_kws\u001b[0m\u001b[1;33m)\u001b[0m\u001b[1;33m:\u001b[0m\u001b[1;33m\u001b[0m\u001b[1;33m\u001b[0m\u001b[0m\n\u001b[0;32m    508\u001b[0m         \u001b[1;34m\"\"\"Make the plot.\"\"\"\u001b[0m\u001b[1;33m\u001b[0m\u001b[1;33m\u001b[0m\u001b[0m\n\u001b[1;32m--> 509\u001b[1;33m         \u001b[0mself\u001b[0m\u001b[1;33m.\u001b[0m\u001b[0mdraw_boxplot\u001b[0m\u001b[1;33m(\u001b[0m\u001b[0max\u001b[0m\u001b[1;33m,\u001b[0m \u001b[0mboxplot_kws\u001b[0m\u001b[1;33m)\u001b[0m\u001b[1;33m\u001b[0m\u001b[1;33m\u001b[0m\u001b[0m\n\u001b[0m\u001b[0;32m    510\u001b[0m         \u001b[0mself\u001b[0m\u001b[1;33m.\u001b[0m\u001b[0mannotate_axes\u001b[0m\u001b[1;33m(\u001b[0m\u001b[0max\u001b[0m\u001b[1;33m)\u001b[0m\u001b[1;33m\u001b[0m\u001b[1;33m\u001b[0m\u001b[0m\n\u001b[0;32m    511\u001b[0m         \u001b[1;32mif\u001b[0m \u001b[0mself\u001b[0m\u001b[1;33m.\u001b[0m\u001b[0morient\u001b[0m \u001b[1;33m==\u001b[0m \u001b[1;34m\"h\"\u001b[0m\u001b[1;33m:\u001b[0m\u001b[1;33m\u001b[0m\u001b[1;33m\u001b[0m\u001b[0m\n",
      "\u001b[1;32m~\\anaconda3\\envs\\pydatavenv\\lib\\site-packages\\seaborn\\categorical.py\u001b[0m in \u001b[0;36mdraw_boxplot\u001b[1;34m(self, ax, kws)\u001b[0m\n\u001b[0;32m    473\u001b[0m                                              \u001b[0mpositions\u001b[0m\u001b[1;33m=\u001b[0m\u001b[1;33m[\u001b[0m\u001b[0mcenter\u001b[0m\u001b[1;33m]\u001b[0m\u001b[1;33m,\u001b[0m\u001b[1;33m\u001b[0m\u001b[1;33m\u001b[0m\u001b[0m\n\u001b[0;32m    474\u001b[0m                                              \u001b[0mwidths\u001b[0m\u001b[1;33m=\u001b[0m\u001b[0mself\u001b[0m\u001b[1;33m.\u001b[0m\u001b[0mnested_width\u001b[0m\u001b[1;33m,\u001b[0m\u001b[1;33m\u001b[0m\u001b[1;33m\u001b[0m\u001b[0m\n\u001b[1;32m--> 475\u001b[1;33m                                              **kws)\n\u001b[0m\u001b[0;32m    476\u001b[0m                     \u001b[0mself\u001b[0m\u001b[1;33m.\u001b[0m\u001b[0mrestyle_boxplot\u001b[0m\u001b[1;33m(\u001b[0m\u001b[0martist_dict\u001b[0m\u001b[1;33m,\u001b[0m \u001b[0mself\u001b[0m\u001b[1;33m.\u001b[0m\u001b[0mcolors\u001b[0m\u001b[1;33m[\u001b[0m\u001b[0mj\u001b[0m\u001b[1;33m]\u001b[0m\u001b[1;33m,\u001b[0m \u001b[0mprops\u001b[0m\u001b[1;33m)\u001b[0m\u001b[1;33m\u001b[0m\u001b[1;33m\u001b[0m\u001b[0m\n\u001b[0;32m    477\u001b[0m                     \u001b[1;31m# Add legend data, but just for one set of boxes\u001b[0m\u001b[1;33m\u001b[0m\u001b[1;33m\u001b[0m\u001b[1;33m\u001b[0m\u001b[0m\n",
      "\u001b[1;32m~\\anaconda3\\envs\\pydatavenv\\lib\\site-packages\\matplotlib\\__init__.py\u001b[0m in \u001b[0;36minner\u001b[1;34m(ax, data, *args, **kwargs)\u001b[0m\n\u001b[0;32m   1436\u001b[0m     \u001b[1;32mdef\u001b[0m \u001b[0minner\u001b[0m\u001b[1;33m(\u001b[0m\u001b[0max\u001b[0m\u001b[1;33m,\u001b[0m \u001b[1;33m*\u001b[0m\u001b[0margs\u001b[0m\u001b[1;33m,\u001b[0m \u001b[0mdata\u001b[0m\u001b[1;33m=\u001b[0m\u001b[1;32mNone\u001b[0m\u001b[1;33m,\u001b[0m \u001b[1;33m**\u001b[0m\u001b[0mkwargs\u001b[0m\u001b[1;33m)\u001b[0m\u001b[1;33m:\u001b[0m\u001b[1;33m\u001b[0m\u001b[1;33m\u001b[0m\u001b[0m\n\u001b[0;32m   1437\u001b[0m         \u001b[1;32mif\u001b[0m \u001b[0mdata\u001b[0m \u001b[1;32mis\u001b[0m \u001b[1;32mNone\u001b[0m\u001b[1;33m:\u001b[0m\u001b[1;33m\u001b[0m\u001b[1;33m\u001b[0m\u001b[0m\n\u001b[1;32m-> 1438\u001b[1;33m             \u001b[1;32mreturn\u001b[0m \u001b[0mfunc\u001b[0m\u001b[1;33m(\u001b[0m\u001b[0max\u001b[0m\u001b[1;33m,\u001b[0m \u001b[1;33m*\u001b[0m\u001b[0mmap\u001b[0m\u001b[1;33m(\u001b[0m\u001b[0msanitize_sequence\u001b[0m\u001b[1;33m,\u001b[0m \u001b[0margs\u001b[0m\u001b[1;33m)\u001b[0m\u001b[1;33m,\u001b[0m \u001b[1;33m**\u001b[0m\u001b[0mkwargs\u001b[0m\u001b[1;33m)\u001b[0m\u001b[1;33m\u001b[0m\u001b[1;33m\u001b[0m\u001b[0m\n\u001b[0m\u001b[0;32m   1439\u001b[0m \u001b[1;33m\u001b[0m\u001b[0m\n\u001b[0;32m   1440\u001b[0m         \u001b[0mbound\u001b[0m \u001b[1;33m=\u001b[0m \u001b[0mnew_sig\u001b[0m\u001b[1;33m.\u001b[0m\u001b[0mbind\u001b[0m\u001b[1;33m(\u001b[0m\u001b[0max\u001b[0m\u001b[1;33m,\u001b[0m \u001b[1;33m*\u001b[0m\u001b[0margs\u001b[0m\u001b[1;33m,\u001b[0m \u001b[1;33m**\u001b[0m\u001b[0mkwargs\u001b[0m\u001b[1;33m)\u001b[0m\u001b[1;33m\u001b[0m\u001b[1;33m\u001b[0m\u001b[0m\n",
      "\u001b[1;32m~\\anaconda3\\envs\\pydatavenv\\lib\\site-packages\\matplotlib\\axes\\_axes.py\u001b[0m in \u001b[0;36mboxplot\u001b[1;34m(self, x, notch, sym, vert, whis, positions, widths, patch_artist, bootstrap, usermedians, conf_intervals, meanline, showmeans, showcaps, showbox, showfliers, boxprops, labels, flierprops, medianprops, meanprops, capprops, whiskerprops, manage_ticks, autorange, zorder)\u001b[0m\n\u001b[0;32m   3785\u001b[0m                            \u001b[0mmeanline\u001b[0m\u001b[1;33m=\u001b[0m\u001b[0mmeanline\u001b[0m\u001b[1;33m,\u001b[0m \u001b[0mshowfliers\u001b[0m\u001b[1;33m=\u001b[0m\u001b[0mshowfliers\u001b[0m\u001b[1;33m,\u001b[0m\u001b[1;33m\u001b[0m\u001b[1;33m\u001b[0m\u001b[0m\n\u001b[0;32m   3786\u001b[0m                            \u001b[0mcapprops\u001b[0m\u001b[1;33m=\u001b[0m\u001b[0mcapprops\u001b[0m\u001b[1;33m,\u001b[0m \u001b[0mwhiskerprops\u001b[0m\u001b[1;33m=\u001b[0m\u001b[0mwhiskerprops\u001b[0m\u001b[1;33m,\u001b[0m\u001b[1;33m\u001b[0m\u001b[1;33m\u001b[0m\u001b[0m\n\u001b[1;32m-> 3787\u001b[1;33m                            manage_ticks=manage_ticks, zorder=zorder)\n\u001b[0m\u001b[0;32m   3788\u001b[0m         \u001b[1;32mreturn\u001b[0m \u001b[0martists\u001b[0m\u001b[1;33m\u001b[0m\u001b[1;33m\u001b[0m\u001b[0m\n\u001b[0;32m   3789\u001b[0m \u001b[1;33m\u001b[0m\u001b[0m\n",
      "\u001b[1;32m~\\anaconda3\\envs\\pydatavenv\\lib\\site-packages\\matplotlib\\axes\\_axes.py\u001b[0m in \u001b[0;36mbxp\u001b[1;34m(self, bxpstats, positions, widths, vert, patch_artist, shownotches, showmeans, showcaps, showbox, showfliers, boxprops, whiskerprops, flierprops, medianprops, capprops, meanprops, meanline, manage_ticks, zorder)\u001b[0m\n\u001b[0;32m   4146\u001b[0m                 \u001b[0mlocator\u001b[0m \u001b[1;33m=\u001b[0m \u001b[0mmticker\u001b[0m\u001b[1;33m.\u001b[0m\u001b[0mFixedLocator\u001b[0m\u001b[1;33m(\u001b[0m\u001b[1;33m[\u001b[0m\u001b[1;33m]\u001b[0m\u001b[1;33m)\u001b[0m\u001b[1;33m\u001b[0m\u001b[1;33m\u001b[0m\u001b[0m\n\u001b[0;32m   4147\u001b[0m                 \u001b[0maxis\u001b[0m\u001b[1;33m.\u001b[0m\u001b[0mset_major_locator\u001b[0m\u001b[1;33m(\u001b[0m\u001b[0mlocator\u001b[0m\u001b[1;33m)\u001b[0m\u001b[1;33m\u001b[0m\u001b[1;33m\u001b[0m\u001b[0m\n\u001b[1;32m-> 4148\u001b[1;33m             \u001b[0mlocator\u001b[0m\u001b[1;33m.\u001b[0m\u001b[0mlocs\u001b[0m \u001b[1;33m=\u001b[0m \u001b[0mnp\u001b[0m\u001b[1;33m.\u001b[0m\u001b[0marray\u001b[0m\u001b[1;33m(\u001b[0m\u001b[1;33m[\u001b[0m\u001b[1;33m*\u001b[0m\u001b[0mlocator\u001b[0m\u001b[1;33m.\u001b[0m\u001b[0mlocs\u001b[0m\u001b[1;33m,\u001b[0m \u001b[1;33m*\u001b[0m\u001b[0mpositions\u001b[0m\u001b[1;33m]\u001b[0m\u001b[1;33m)\u001b[0m\u001b[1;33m\u001b[0m\u001b[1;33m\u001b[0m\u001b[0m\n\u001b[0m\u001b[0;32m   4149\u001b[0m             \u001b[0mformatter\u001b[0m \u001b[1;33m=\u001b[0m \u001b[0maxis\u001b[0m\u001b[1;33m.\u001b[0m\u001b[0mget_major_formatter\u001b[0m\u001b[1;33m(\u001b[0m\u001b[1;33m)\u001b[0m\u001b[1;33m\u001b[0m\u001b[1;33m\u001b[0m\u001b[0m\n\u001b[0;32m   4150\u001b[0m             if not isinstance(axis.get_major_formatter(),\n",
      "\u001b[1;31mKeyboardInterrupt\u001b[0m: "
     ]
    }
   ],
   "source": [
    "sns.boxplot(x='date', y='w_temp', hue='sigungu', data=pdf_AWS_D_Weather) \n",
    "plt.show()"
   ]
  },
  {
   "cell_type": "code",
   "execution_count": null,
   "metadata": {},
   "outputs": [],
   "source": [
    "plt.show()"
   ]
  }
 ],
 "metadata": {
  "kernelspec": {
   "display_name": "awsvenv",
   "language": "python",
   "name": "awsvenv"
  },
  "language_info": {
   "codemirror_mode": {
    "name": "ipython",
    "version": 3
   },
   "file_extension": ".py",
   "mimetype": "text/x-python",
   "name": "python",
   "nbconvert_exporter": "python",
   "pygments_lexer": "ipython3",
   "version": "3.6.12"
  }
 },
 "nbformat": 4,
 "nbformat_minor": 4
}
