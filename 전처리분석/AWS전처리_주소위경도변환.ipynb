{
 "cells": [
  {
   "cell_type": "code",
   "execution_count": 1,
   "metadata": {},
   "outputs": [
    {
     "name": "stdout",
     "output_type": "stream",
     "text": [
      "{'documents': [{'address': {'address_name': '서울 중랑구 상봉동', 'b_code': '1126010200', 'h_code': '', 'main_address_no': '', 'mountain_yn': 'N', 'region_1depth_name': '서울', 'region_2depth_name': '중랑구', 'region_3depth_h_name': '', 'region_3depth_name': '상봉동', 'sub_address_no': '', 'x': '127.088754299651', 'y': '37.596768819552'}, 'address_name': '서울 중랑구 상봉동', 'address_type': 'REGION', 'road_address': None, 'x': '127.088754299651', 'y': '37.596768819552'}, {'address': {'address_name': '서울 중랑구 상봉1동', 'b_code': '', 'h_code': '1126058000', 'main_address_no': '', 'mountain_yn': 'N', 'region_1depth_name': '서울', 'region_2depth_name': '중랑구', 'region_3depth_h_name': '상봉1동', 'region_3depth_name': '', 'sub_address_no': '', 'x': '127.087213355959', 'y': '37.5998477528802'}, 'address_name': '서울 중랑구 상봉1동', 'address_type': 'REGION', 'road_address': None, 'x': '127.087213355959', 'y': '37.5998477528802'}, {'address': {'address_name': '서울 중랑구 상봉2동', 'b_code': '', 'h_code': '1126059000', 'main_address_no': '', 'mountain_yn': 'N', 'region_1depth_name': '서울', 'region_2depth_name': '중랑구', 'region_3depth_h_name': '상봉2동', 'region_3depth_name': '', 'sub_address_no': '', 'x': '127.080873522447', 'y': '37.5929903188245'}, 'address_name': '서울 중랑구 상봉2동', 'address_type': 'REGION', 'road_address': None, 'x': '127.080873522447', 'y': '37.5929903188245'}], 'meta': {'is_end': True, 'pageable_count': 3, 'total_count': 3}}\n"
     ]
    },
    {
     "data": {
      "text/plain": [
       "[{'address': '서울특별시 상봉동', 'x': 127.088754299651, 'y': 37.596768819552}]"
      ]
     },
     "execution_count": 1,
     "metadata": {},
     "output_type": "execute_result"
    }
   ],
   "source": [
    "########################## 주소가져오기 ##########################\n",
    "\n",
    "import json\n",
    "import requests\n",
    "import pandas as pd\n",
    "\n",
    "def gotaddress(addressList):\n",
    "    conResult = []\n",
    "    for add in addressList:\n",
    "        try:\n",
    "            result = getLatLng(add)\n",
    "            print(result)\n",
    "            match_first = result['documents'][0]['address']\n",
    "        except:\n",
    "            match_first = {'x': '999', 'y': '999'}      #주소가 이상하면 999로 셋팅\n",
    "        context = {'address': add, 'x': float(match_first['x']), 'y': float(match_first['y'])}\n",
    "        conResult.append(context)\n",
    "\n",
    "    return (conResult)\n",
    "\n",
    "def getLatLng(addr):\n",
    "    url = 'https://dapi.kakao.com/v2/local/search/address.json?query=' + addr\n",
    "    headers = {\"Authorization\": \"KakaoAK 1af4a3b899028e9720c99fc752d7986c\"}\n",
    "    result = json.loads(str(requests.get(url, headers=headers).text))\n",
    "    return result\n",
    "\n",
    "########################## 아래 테스트 ##########################\n",
    "\n",
    "\n",
    "37.6065432383919, 127.092820287004\n",
    "\n",
    "gotaddress(['서울특별시 상봉동'])"
   ]
  },
  {
   "cell_type": "code",
   "execution_count": 2,
   "metadata": {},
   "outputs": [
    {
     "name": "stdout",
     "output_type": "stream",
     "text": [
      "['강원도', '경기도', '경상남도', '경상북도', '광주광역시', '대구광역시', '대전광역시', '부산광역시', '서울특별시', '세종특별자치시', '울산광역시', '인천광역시', '전라남도', '전라북도', '제주특별자치도', '충청남도', '충청북도']\n",
      "{'documents': [{'address': {'address_name': '강원', 'b_code': '4200000000', 'h_code': '4200000000', 'main_address_no': '', 'mountain_yn': 'N', 'region_1depth_name': '강원', 'region_2depth_name': '', 'region_3depth_h_name': '', 'region_3depth_name': '', 'sub_address_no': '', 'x': '127.729829010354', 'y': '37.8853257858209'}, 'address_name': '강원', 'address_type': 'REGION', 'road_address': None, 'x': '127.729829010354', 'y': '37.8853257858209'}], 'meta': {'is_end': True, 'pageable_count': 1, 'total_count': 1}}\n",
      "{'documents': [{'address': {'address_name': '경기', 'b_code': '4100000000', 'h_code': '4100000000', 'main_address_no': '', 'mountain_yn': 'N', 'region_1depth_name': '경기', 'region_2depth_name': '', 'region_3depth_h_name': '', 'region_3depth_name': '', 'sub_address_no': '', 'x': '127.00892996953', 'y': '37.2749769872425'}, 'address_name': '경기', 'address_type': 'REGION', 'road_address': None, 'x': '127.00892996953', 'y': '37.2749769872425'}], 'meta': {'is_end': True, 'pageable_count': 1, 'total_count': 1}}\n",
      "{'documents': [{'address': {'address_name': '경남', 'b_code': '4800000000', 'h_code': '4800000000', 'main_address_no': '', 'mountain_yn': 'N', 'region_1depth_name': '경남', 'region_2depth_name': '', 'region_3depth_h_name': '', 'region_3depth_name': '', 'sub_address_no': '', 'x': '128.69189688916', 'y': '35.2377742104522'}, 'address_name': '경남', 'address_type': 'REGION', 'road_address': None, 'x': '128.69189688916', 'y': '35.2377742104522'}], 'meta': {'is_end': True, 'pageable_count': 1, 'total_count': 1}}\n",
      "{'documents': [{'address': {'address_name': '경북', 'b_code': '4700000000', 'h_code': '4700000000', 'main_address_no': '', 'mountain_yn': 'N', 'region_1depth_name': '경북', 'region_2depth_name': '', 'region_3depth_h_name': '', 'region_3depth_name': '', 'sub_address_no': '', 'x': '128.505799255401', 'y': '36.5759962255808'}, 'address_name': '경북', 'address_type': 'REGION', 'road_address': None, 'x': '128.505799255401', 'y': '36.5759962255808'}], 'meta': {'is_end': True, 'pageable_count': 1, 'total_count': 1}}\n",
      "{'documents': [{'address': {'address_name': '광주광역시', 'b_code': '2900000000', 'h_code': '2900000000', 'main_address_no': '', 'mountain_yn': 'N', 'region_1depth_name': '광주광역시', 'region_2depth_name': '', 'region_3depth_h_name': '', 'region_3depth_name': '', 'sub_address_no': '', 'x': '126.851629955742', 'y': '35.1601037626662'}, 'address_name': '광주광역시', 'address_type': 'REGION', 'road_address': None, 'x': '126.851629955742', 'y': '35.1601037626662'}], 'meta': {'is_end': True, 'pageable_count': 1, 'total_count': 1}}\n",
      "{'documents': [{'address': {'address_name': '대구', 'b_code': '2700000000', 'h_code': '2700000000', 'main_address_no': '', 'mountain_yn': 'N', 'region_1depth_name': '대구', 'region_2depth_name': '', 'region_3depth_h_name': '', 'region_3depth_name': '', 'sub_address_no': '', 'x': '128.601805491072', 'y': '35.8713802646197'}, 'address_name': '대구', 'address_type': 'REGION', 'road_address': None, 'x': '128.601805491072', 'y': '35.8713802646197'}], 'meta': {'is_end': True, 'pageable_count': 1, 'total_count': 1}}\n",
      "{'documents': [{'address': {'address_name': '대전', 'b_code': '3000000000', 'h_code': '3000000000', 'main_address_no': '', 'mountain_yn': 'N', 'region_1depth_name': '대전', 'region_2depth_name': '', 'region_3depth_h_name': '', 'region_3depth_name': '', 'sub_address_no': '', 'x': '127.38483484675', 'y': '36.3505388992836'}, 'address_name': '대전', 'address_type': 'REGION', 'road_address': None, 'x': '127.38483484675', 'y': '36.3505388992836'}], 'meta': {'is_end': True, 'pageable_count': 1, 'total_count': 1}}\n",
      "{'documents': [{'address': {'address_name': '부산', 'b_code': '2600000000', 'h_code': '2600000000', 'main_address_no': '', 'mountain_yn': 'N', 'region_1depth_name': '부산', 'region_2depth_name': '', 'region_3depth_h_name': '', 'region_3depth_name': '', 'sub_address_no': '', 'x': '129.075087492149', 'y': '35.1798200522868'}, 'address_name': '부산', 'address_type': 'REGION', 'road_address': None, 'x': '129.075087492149', 'y': '35.1798200522868'}], 'meta': {'is_end': True, 'pageable_count': 1, 'total_count': 1}}\n",
      "{'documents': [{'address': {'address_name': '서울', 'b_code': '1100000000', 'h_code': '1100000000', 'main_address_no': '', 'mountain_yn': 'N', 'region_1depth_name': '서울', 'region_2depth_name': '', 'region_3depth_h_name': '', 'region_3depth_name': '', 'sub_address_no': '', 'x': '126.978652258309', 'y': '37.566826004661'}, 'address_name': '서울', 'address_type': 'REGION', 'road_address': None, 'x': '126.978652258309', 'y': '37.566826004661'}], 'meta': {'is_end': True, 'pageable_count': 1, 'total_count': 1}}\n",
      "{'documents': [{'address': {'address_name': '세종특별자치시', 'b_code': '3600000000', 'h_code': '3600000000', 'main_address_no': '', 'mountain_yn': 'N', 'region_1depth_name': '세종특별자치시', 'region_2depth_name': '', 'region_3depth_h_name': '', 'region_3depth_name': '', 'sub_address_no': '', 'x': '127.289195324698', 'y': '36.4800649113762'}, 'address_name': '세종특별자치시', 'address_type': 'REGION', 'road_address': None, 'x': '127.289195324698', 'y': '36.4800649113762'}], 'meta': {'is_end': True, 'pageable_count': 1, 'total_count': 1}}\n",
      "{'documents': [{'address': {'address_name': '울산', 'b_code': '3100000000', 'h_code': '3100000000', 'main_address_no': '', 'mountain_yn': 'N', 'region_1depth_name': '울산', 'region_2depth_name': '', 'region_3depth_h_name': '', 'region_3depth_name': '', 'sub_address_no': '', 'x': '129.311467815675', 'y': '35.5394791854502'}, 'address_name': '울산', 'address_type': 'REGION', 'road_address': None, 'x': '129.311467815675', 'y': '35.5394791854502'}], 'meta': {'is_end': True, 'pageable_count': 1, 'total_count': 1}}\n",
      "{'documents': [{'address': {'address_name': '인천', 'b_code': '2800000000', 'h_code': '2800000000', 'main_address_no': '', 'mountain_yn': 'N', 'region_1depth_name': '인천', 'region_2depth_name': '', 'region_3depth_h_name': '', 'region_3depth_name': '', 'sub_address_no': '', 'x': '126.705258070068', 'y': '37.4560044656444'}, 'address_name': '인천', 'address_type': 'REGION', 'road_address': None, 'x': '126.705258070068', 'y': '37.4560044656444'}], 'meta': {'is_end': True, 'pageable_count': 1, 'total_count': 1}}\n",
      "{'documents': [{'address': {'address_name': '전남', 'b_code': '4600000000', 'h_code': '4600000000', 'main_address_no': '', 'mountain_yn': 'N', 'region_1depth_name': '전남', 'region_2depth_name': '', 'region_3depth_h_name': '', 'region_3depth_name': '', 'sub_address_no': '', 'x': '126.462788333376', 'y': '34.8160821478848'}, 'address_name': '전남', 'address_type': 'REGION', 'road_address': None, 'x': '126.462788333376', 'y': '34.8160821478848'}], 'meta': {'is_end': True, 'pageable_count': 1, 'total_count': 1}}\n",
      "{'documents': [{'address': {'address_name': '전북', 'b_code': '4500000000', 'h_code': '4500000000', 'main_address_no': '', 'mountain_yn': 'N', 'region_1depth_name': '전북', 'region_2depth_name': '', 'region_3depth_h_name': '', 'region_3depth_name': '', 'sub_address_no': '', 'x': '127.108976712011', 'y': '35.8201963639272'}, 'address_name': '전북', 'address_type': 'REGION', 'road_address': None, 'x': '127.108976712011', 'y': '35.8201963639272'}], 'meta': {'is_end': True, 'pageable_count': 1, 'total_count': 1}}\n",
      "{'documents': [{'address': {'address_name': '제주특별자치도', 'b_code': '5000000000', 'h_code': '5000000000', 'main_address_no': '', 'mountain_yn': 'N', 'region_1depth_name': '제주특별자치도', 'region_2depth_name': '', 'region_3depth_h_name': '', 'region_3depth_name': '', 'sub_address_no': '', 'x': '126.498233486741', 'y': '33.4889107081162'}, 'address_name': '제주특별자치도', 'address_type': 'REGION', 'road_address': None, 'x': '126.498233486741', 'y': '33.4889107081162'}], 'meta': {'is_end': True, 'pageable_count': 1, 'total_count': 1}}\n",
      "{'documents': [{'address': {'address_name': '충남', 'b_code': '4400000000', 'h_code': '4400000000', 'main_address_no': '', 'mountain_yn': 'N', 'region_1depth_name': '충남', 'region_2depth_name': '', 'region_3depth_h_name': '', 'region_3depth_name': '', 'sub_address_no': '', 'x': '126.672776193822', 'y': '36.6588292532864'}, 'address_name': '충남', 'address_type': 'REGION', 'road_address': None, 'x': '126.672776193822', 'y': '36.6588292532864'}], 'meta': {'is_end': True, 'pageable_count': 1, 'total_count': 1}}\n",
      "{'documents': [{'address': {'address_name': '충북', 'b_code': '4300000000', 'h_code': '4300000000', 'main_address_no': '', 'mountain_yn': 'N', 'region_1depth_name': '충북', 'region_2depth_name': '', 'region_3depth_h_name': '', 'region_3depth_name': '', 'sub_address_no': '', 'x': '127.491457326501', 'y': '36.6353581959954'}, 'address_name': '충북', 'address_type': 'REGION', 'road_address': None, 'x': '127.491457326501', 'y': '36.6353581959954'}], 'meta': {'is_end': True, 'pageable_count': 1, 'total_count': 1}}\n"
     ]
    }
   ],
   "source": [
    "df = pd.read_csv('data/시도_List.csv', header=None)\n",
    "\n",
    "import numpy as np\n",
    "\n",
    "addList = list(np.array(df[0].tolist()))\n",
    "print(addList)\n",
    "\n",
    "# orgAddressList = ['강원도 강릉시',\n",
    "#                '강원도 고성군']\n",
    "\n",
    "lst = gotaddress(addList)"
   ]
  },
  {
   "cell_type": "code",
   "execution_count": 3,
   "metadata": {},
   "outputs": [
    {
     "name": "stdout",
     "output_type": "stream",
     "text": [
      "강원도 , 127.729829010354 , 37.8853257858209\n",
      "경기도 , 127.00892996953 , 37.2749769872425\n",
      "경상남도 , 128.69189688916 , 35.2377742104522\n",
      "경상북도 , 128.505799255401 , 36.5759962255808\n",
      "광주광역시 , 126.851629955742 , 35.1601037626662\n",
      "대구광역시 , 128.601805491072 , 35.8713802646197\n",
      "대전광역시 , 127.38483484675 , 36.3505388992836\n",
      "부산광역시 , 129.075087492149 , 35.1798200522868\n",
      "서울특별시 , 126.978652258309 , 37.566826004661\n",
      "세종특별자치시 , 127.289195324698 , 36.4800649113762\n",
      "울산광역시 , 129.311467815675 , 35.5394791854502\n",
      "인천광역시 , 126.705258070068 , 37.4560044656444\n",
      "전라남도 , 126.462788333376 , 34.8160821478848\n",
      "전라북도 , 127.108976712011 , 35.8201963639272\n",
      "제주특별자치도 , 126.498233486741 , 33.4889107081162\n",
      "충청남도 , 126.672776193822 , 36.6588292532864\n",
      "충청북도 , 127.491457326501 , 36.6353581959954\n"
     ]
    }
   ],
   "source": [
    "address = []\n",
    "x = []\n",
    "y = []\n",
    "\n",
    "for chk in lst:\n",
    "    print(chk['address'], ',', chk['x'], ',', chk['y'])\n",
    "\n",
    "    address.append(chk['address'])\n",
    "    x.append(chk['x'])\n",
    "    y.append(chk['y'])\n",
    "        \n",
    "\n",
    "listSet = {'address' : address,\n",
    "           'x' : x,\n",
    "            'y' : y}\n",
    "df = pd.DataFrame(listSet)\n",
    "df.to_csv('data/시도_List_xy좌표.csv')\n"
   ]
  },
  {
   "cell_type": "code",
   "execution_count": 9,
   "metadata": {},
   "outputs": [
    {
     "data": {
      "text/plain": [
       "{'address': ['강원도',\n",
       "  '경기도',\n",
       "  '경상남도',\n",
       "  '경상북도',\n",
       "  '광주광역시',\n",
       "  '대구광역시',\n",
       "  '대전광역시',\n",
       "  '부산광역시',\n",
       "  '서울특별시',\n",
       "  '세종특별자치시',\n",
       "  '울산광역시',\n",
       "  '인천광역시',\n",
       "  '전라남도',\n",
       "  '전라북도',\n",
       "  '제주특별자치도',\n",
       "  '충청남도',\n",
       "  '충청북도'],\n",
       " 'x': [127.729829010354,\n",
       "  127.00892996953,\n",
       "  128.69189688916,\n",
       "  128.505799255401,\n",
       "  126.851629955742,\n",
       "  128.601805491072,\n",
       "  127.38483484675,\n",
       "  129.075087492149,\n",
       "  126.978652258309,\n",
       "  127.289195324698,\n",
       "  129.311467815675,\n",
       "  126.705258070068,\n",
       "  126.462788333376,\n",
       "  127.108976712011,\n",
       "  126.498233486741,\n",
       "  126.672776193822,\n",
       "  127.491457326501],\n",
       " 'y': [37.8853257858209,\n",
       "  37.2749769872425,\n",
       "  35.2377742104522,\n",
       "  36.5759962255808,\n",
       "  35.1601037626662,\n",
       "  35.8713802646197,\n",
       "  36.3505388992836,\n",
       "  35.1798200522868,\n",
       "  37.566826004661,\n",
       "  36.4800649113762,\n",
       "  35.5394791854502,\n",
       "  37.4560044656444,\n",
       "  34.8160821478848,\n",
       "  35.8201963639272,\n",
       "  33.4889107081162,\n",
       "  36.6588292532864,\n",
       "  36.6353581959954]}"
      ]
     },
     "execution_count": 9,
     "metadata": {},
     "output_type": "execute_result"
    }
   ],
   "source": [
    "listSet"
   ]
  },
  {
   "cell_type": "code",
   "execution_count": 44,
   "metadata": {},
   "outputs": [
    {
     "data": {
      "text/html": [
       "<div>\n",
       "<style scoped>\n",
       "    .dataframe tbody tr th:only-of-type {\n",
       "        vertical-align: middle;\n",
       "    }\n",
       "\n",
       "    .dataframe tbody tr th {\n",
       "        vertical-align: top;\n",
       "    }\n",
       "\n",
       "    .dataframe thead th {\n",
       "        text-align: right;\n",
       "    }\n",
       "</style>\n",
       "<table border=\"1\" class=\"dataframe\">\n",
       "  <thead>\n",
       "    <tr style=\"text-align: right;\">\n",
       "      <th>category</th>\n",
       "      <th>fcstDate</th>\n",
       "      <th>R06</th>\n",
       "      <th>REH</th>\n",
       "      <th>temp_avg</th>\n",
       "    </tr>\n",
       "  </thead>\n",
       "  <tbody>\n",
       "    <tr>\n",
       "      <th>0</th>\n",
       "      <td>20201115</td>\n",
       "      <td>0.0</td>\n",
       "      <td>70.000</td>\n",
       "      <td>12.5</td>\n",
       "    </tr>\n",
       "    <tr>\n",
       "      <th>1</th>\n",
       "      <td>20201116</td>\n",
       "      <td>0.0</td>\n",
       "      <td>74.375</td>\n",
       "      <td>13.0</td>\n",
       "    </tr>\n",
       "  </tbody>\n",
       "</table>\n",
       "</div>"
      ],
      "text/plain": [
       "category  fcstDate  R06     REH  temp_avg\n",
       "0         20201115  0.0  70.000      12.5\n",
       "1         20201116  0.0  74.375      13.0"
      ]
     },
     "metadata": {},
     "output_type": "display_data"
    },
    {
     "name": "stdout",
     "output_type": "stream",
     "text": [
      "{'today_rain': 0    0.0\n",
      "Name: R06, dtype: float64, 'today_humidity': 0    70.0\n",
      "Name: REH, dtype: float64, 'today_temp': 0    12.5\n",
      "Name: temp_avg, dtype: float64, 'tomday_rain': 1    0.0\n",
      "Name: R06, dtype: float64, 'tomday_humidity': 1    74.375\n",
      "Name: REH, dtype: float64, 'tomday_temp': 1    13.0\n",
      "Name: temp_avg, dtype: float64}\n"
     ]
    }
   ],
   "source": []
  },
  {
   "cell_type": "code",
   "execution_count": null,
   "metadata": {},
   "outputs": [],
   "source": []
  }
 ],
 "metadata": {
  "kernelspec": {
   "display_name": "pydatavenv",
   "language": "python",
   "name": "pydatavenv"
  },
  "language_info": {
   "codemirror_mode": {
    "name": "ipython",
    "version": 3
   },
   "file_extension": ".py",
   "mimetype": "text/x-python",
   "name": "python",
   "nbconvert_exporter": "python",
   "pygments_lexer": "ipython3",
   "version": "3.7.9"
  }
 },
 "nbformat": 4,
 "nbformat_minor": 4
}
